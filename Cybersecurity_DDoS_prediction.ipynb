{
  "cells": [
    {
      "cell_type": "markdown",
      "metadata": {
        "id": "dVF1qSp_2v2h"
      },
      "source": [
        "## **Predicting DDoS Attacks in Network Traffic**\n",
        "\n",
        "\n",
        "In today's digital landscape, Distributed Denial of Service (DDoS) attacks pose a significant threat to the availability and reliability of online services. These attacks overwhelm a target system with traffic from multiple sources, rendering it inaccessible to legitimate users. As organizations increasingly rely on digital infrastructure, the ability to detect and mitigate DDoS attacks has become critical.\n",
        "This dataset contains network flow records that can be used to predict whether a given flow is benign or indicative of a DDoS attack. Each record includes various features that provide insights into the nature of the network traffic."
      ]
    },
    {
      "cell_type": "markdown",
      "metadata": {
        "id": "XEe9c2kGtEIH"
      },
      "source": [
        "## **About the Dataset**\n",
        "\n",
        "The Friday-WorkingHours-Afternoon-DDos.pcap_ISCX.csv dataset is part of the CICIDS dataset, created by the Canadian Institute for Cybersecurity (CIC). The CICIDS dataset simulates realistic network traffic and includes various types of attacks, such as DDoS, brute force, and phishing. It is designed for evaluating intrusion detection systems (IDS) and cybersecurity algorithms.\n",
        "\n",
        "The specific file focuses on a DDoS attack scenario that occurred on a Friday afternoon during regular working hours. It contains labeled features extracted from the captured network traffic.\n",
        "\n",
        "You can access the dataset at this link: https://www.unb.ca/cic/datasets/index.html."
      ]
    },
    {
      "cell_type": "markdown",
      "metadata": {
        "id": "aRXn6_m_uSxe"
      },
      "source": [
        "# *Key Features in the Dataset*\n",
        "\n",
        "Flow ID: Unique identifier for each network flow.\n",
        "\n",
        "Source IP: IP address of the source.\n",
        "\n",
        "Source Port: Port number used by the source.\n",
        "\n",
        "Destination IP: IP address of the destination.\n",
        "\n",
        "Destination Port: Port number used by the destination.\n",
        "\n",
        "Protocol: Network protocol used (e.g., TCP, UDP).\n",
        "\n",
        "Timestamp: Date and time when the flow started.\n",
        "\n",
        "Flow Duration: Duration of the network flow in microseconds.\n",
        "\n",
        "Total Fwd Packets: Number of packets sent from the source to the destination.\n",
        "\n",
        "Total Backward Packets: Number of packets sent from the destination to the source.\n",
        "\n",
        "Total Length of Fwd Packets: Total size (in bytes) of packets sent forward.\n",
        "\n",
        "Total Length of Bwd Packets: Total size (in bytes) of packets sent backward.\n",
        "\n",
        "Fwd Packet Length Max: Maximum size of forward packets.\n",
        "\n",
        "Fwd Packet Length Min: Minimum size of forward packets.\n",
        "\n",
        "Fwd Packet Length Mean: Mean size of forward packets.\n",
        "\n",
        "Fwd Packet Length Std: Standard deviation of forward packet sizes.\n",
        "\n",
        "Bwd Packet Length Max: Maximum size of backward packets.\n",
        "\n",
        "Bwd Packet Length Min: Minimum size of backward packets.\n",
        "\n",
        "Bwd Packet Length Mean: Mean size of backward packets.\n",
        "\n",
        "Bwd Packet Length Std: Standard deviation of backward packet sizes.\n",
        "\n",
        "Flow Bytes/s: Number of bytes transferred per second.\n",
        "\n",
        "Flow Packets/s: Number of packets transferred per second.\n",
        "\n",
        "Flow IAT Mean: Mean time between two consecutive packets in a flow.\n",
        "\n",
        "Flow IAT Std: Standard deviation of time between packets.\n",
        "\n",
        "Flow IAT Max: Maximum inter-arrival time between packets.\n",
        "\n",
        "Flow IAT Min: Minimum inter-arrival time between packets.\n",
        "\n",
        "Fwd IAT Total: Total inter-arrival time for forward packets.\n",
        "\n",
        "Fwd IAT Mean: Mean inter-arrival time for forward packets.\n",
        "\n",
        "Fwd IAT Std: Standard deviation of forward packet inter-arrival time.\n",
        "\n",
        "Fwd IAT Max: Maximum forward packet inter-arrival time.\n",
        "\n",
        "Fwd IAT Min: Minimum forward packet inter-arrival time.\n",
        "\n",
        "Bwd IAT Total: Total inter-arrival time for backward packets.\n",
        "\n",
        "Bwd IAT Mean: Mean inter-arrival time for backward packets.\n",
        "\n",
        "Bwd IAT Std: Standard deviation of backward packet inter-arrival time.\n",
        "\n",
        "Bwd IAT Max: Maximum backward packet inter-arrival time.\n",
        "\n",
        "Bwd IAT Min: Minimum backward packet inter-arrival time.\n",
        "\n",
        "Fwd PSH Flags: Number of forward packets with PSH (Push) flag set.\n",
        "\n",
        "Bwd PSH Flags: Number of backward packets with PSH flag set.\n",
        "\n",
        "Fwd URG Flags: Number of forward packets with URG (Urgent) flag set.\n",
        "\n",
        "Bwd URG Flags: Number of backward packets with URG flag set.\n",
        "\n",
        "Fwd Header Length: Total length of forward headers.\n",
        "\n",
        "Bwd Header Length: Total length of backward headers.\n",
        "\n",
        "Fwd Packets/s: Number of forward packets per second.\n",
        "\n",
        "Bwd Packets/s: Number of backward packets per second.\n",
        "\n",
        "Min Packet Length: Minimum packet length in the flow.\n",
        "\n",
        "Max Packet Length: Maximum packet length in the flow.\n",
        "\n",
        "Packet Length Mean: Mean packet length in the flow.\n",
        "\n",
        "Packet Length Std: Standard deviation of packet length in the flow.\n",
        "\n",
        "Packet Length Variance: Variance of packet length in the flow.\n",
        "\n",
        "FIN Flag Count: Number of packets with the FIN (Finish) flag set.\n",
        "\n",
        "SYN Flag Count: Number of packets with the SYN (Synchronize) flag set.\n",
        "\n",
        "RST Flag Count: Number of packets with the RST (Reset) flag set.\n",
        "\n",
        "PSH Flag Count: Number of packets with the PSH flag set.\n",
        "\n",
        "ACK Flag Count: Number of packets with the ACK (Acknowledgement) flag set.\n",
        "\n",
        "URG Flag Count: Number of packets with the URG flag set.\n",
        "\n",
        "CWE Flag Count: Number of packets with CWE (Congestion Window Reduced) flag set.\n",
        "\n",
        "ECE Flag Count: Number of packets with ECE (Explicit Congestion Notification Echo) flag set.\n",
        "\n",
        "Down/Up Ratio: Ratio of downlink to uplink traffic.\n",
        "\n",
        "Average Packet Size: Average size of packets in the flow.\n",
        "\n",
        "Avg Fwd Segment Size: Average segment size in the forward direction.\n",
        "\n",
        "Avg Bwd Segment Size: Average segment size in the backward direction.\n",
        "\n",
        "Fwd Header Length.1: Duplicate of the Fwd Header Length variable.\n",
        "\n",
        "Fwd Avg Bytes/Bulk: Average number of bytes sent per bulk in the forward direction.\n",
        "\n",
        "Fwd Avg Packets/Bulk: Average number of packets sent per bulk in the forward direction.\n",
        "\n",
        "Fwd Avg Bulk Rate: Average rate of bulk traffic in the forward direction.\n",
        "\n",
        "Bwd Avg Bytes/Bulk: Average number of bytes sent per bulk in the backward direction.\n",
        "\n",
        "Bwd Avg Packets/Bulk: Average number of packets sent per bulk in the backward direction.\n",
        "\n",
        "Bwd Avg Bulk Rate: Average rate of bulk traffic in the backward direction.\n",
        "\n",
        "Subflow Fwd Packets: Number of packets in the forward subflow.\n",
        "\n",
        "Subflow Fwd Bytes: Number of bytes in the forward subflow.\n",
        "\n",
        "Subflow Bwd Packets: Number of packets in the backward subflow.\n",
        "\n",
        "Subflow Bwd Bytes: Number of bytes in the backward subflow.\n",
        "\n",
        "Init_Win_bytes_forward: Initial window size in the forward direction.\n",
        "\n",
        "Init_Win_bytes_backward: Initial window size in the backward direction.\n",
        "\n",
        "act_data_pkt_fwd: Number of active data packets in the forward direction.\n",
        "\n",
        "min_seg_size_forward: Minimum segment size in the forward direction.\n",
        "\n",
        "Active Mean: Mean time a flow was active.\n",
        "\n",
        "Active Std: Standard deviation of active time.\n",
        "\n",
        "Active Max: Maximum active time of the flow.\n",
        "\n",
        "Active Min: Minimum active time of the flow.\n",
        "\n",
        "Idle Mean: Mean time the flow was idle.\n",
        "\n",
        "Idle Std: Standard deviation of idle time.\n",
        "\n",
        "Idle Max: Maximum idle time of the flow.\n",
        "\n",
        "Idle Min: Minimum idle time of the flow.\n",
        "\n",
        "Label: Classification label for the flow (e.g., normal or attack).\n",
        "\n",
        "\n",
        "\n",
        "\n",
        "\n",
        "\n"
      ]
    },
    {
      "cell_type": "code",
      "execution_count": 1,
      "metadata": {
        "id": "uq4iBcBD_8T3"
      },
      "outputs": [],
      "source": [
        "import pandas as pd\n",
        "import numpy as np\n",
        "import matplotlib.pyplot as plt\n",
        "import seaborn as sns\n",
        "\n",
        "from sklearn.model_selection import train_test_split\n",
        "from sklearn.linear_model import LogisticRegression\n",
        "from sklearn.feature_selection import SequentialFeatureSelector\n",
        "from sklearn.preprocessing import LabelEncoder\n",
        "from sklearn.neighbors import KNeighborsClassifier\n",
        "from sklearn.impute import SimpleImputer\n",
        "from sklearn.ensemble import RandomForestClassifier\n",
        "from sklearn.tree import DecisionTreeClassifier\n",
        "from sklearn.metrics import accuracy_score, classification_report, precision_score, recall_score, f1_score, confusion_matrix, roc_curve, auc\n",
        "from sklearn.feature_extraction import DictVectorizer\n",
        "import xgboost as xgb\n",
        "from xgboost import plot_importance"
      ]
    },
    {
      "cell_type": "code",
      "execution_count": 2,
      "metadata": {
        "id": "VnoMWv9SAJZ2"
      },
      "outputs": [],
      "source": [
        "df = pd.read_csv('/content/Friday-WorkingHours-Afternoon-DDos.pcap_ISCX.csv')"
      ]
    },
    {
      "cell_type": "code",
      "source": [
        "df.columns = [col.strip() for col in df.columns]  # This command removes all leading and trailing spaces from column names."
      ],
      "metadata": {
        "id": "KJsiJvs154Yy"
      },
      "execution_count": 3,
      "outputs": []
    },
    {
      "cell_type": "markdown",
      "source": [],
      "metadata": {
        "id": "9lCiY4fX6ITs"
      }
    },
    {
      "cell_type": "markdown",
      "metadata": {
        "id": "hsiVKddHH0DH"
      },
      "source": [
        "\n",
        "Selecting 10% of the data is done to ensure faster processing and quick computations, especially for training and experimentation purposes. By working with a smaller subset, we can speed up the analysis and model development without needing to process the entire dataset, making the process more efficient while still providing valuable insights."
      ]
    },
    {
      "cell_type": "code",
      "execution_count": 4,
      "metadata": {
        "colab": {
          "base_uri": "https://localhost:8080/"
        },
        "id": "LKT1faQEAkTt",
        "outputId": "893a75b8-85ca-4a89-aa4e-479ae32d3376"
      },
      "outputs": [
        {
          "output_type": "stream",
          "name": "stdout",
          "text": [
            "The number of records in the selected 10% of the data: 22574\n",
            "                                    Flow ID      Source IP  Source Port  \\\n",
            "70304   172.16.0.1-192.168.10.50-21522-80-6  192.168.10.50           80   \n",
            "44759   172.16.0.1-192.168.10.50-18571-80-6     172.16.0.1        18571   \n",
            "152318  172.16.0.1-192.168.10.50-34953-80-6     172.16.0.1        34953   \n",
            "73644   172.16.0.1-192.168.10.50-23624-80-6     172.16.0.1        23624   \n",
            "185744  172.16.0.1-192.168.10.50-64681-80-6  192.168.10.50           80   \n",
            "\n",
            "       Destination IP  Destination Port  Protocol      Timestamp  \\\n",
            "70304      172.16.0.1             21522         6  7/7/2017 4:01   \n",
            "44759   192.168.10.50                80         6  7/7/2017 3:59   \n",
            "152318  192.168.10.50                80         6  7/7/2017 4:11   \n",
            "73644   192.168.10.50                80         6  7/7/2017 4:02   \n",
            "185744     172.16.0.1             64681         6  7/7/2017 4:14   \n",
            "\n",
            "        Flow Duration  Total Fwd Packets  Total Backward Packets  ...  \\\n",
            "70304         4893735                  1                       6  ...   \n",
            "44759          106519                  3                       6  ...   \n",
            "152318          52018                  3                       5  ...   \n",
            "73644         8094757                  5                       0  ...   \n",
            "185744      102604557                  6                       9  ...   \n",
            "\n",
            "        min_seg_size_forward  Active Mean  Active Std  Active Max  Active Min  \\\n",
            "70304                     20          0.0         0.0           0           0   \n",
            "44759                     20          0.0         0.0           0           0   \n",
            "152318                    20          0.0         0.0           0           0   \n",
            "73644                     20       1988.0         0.0        1988        1988   \n",
            "185744                    20    1916330.0         0.0     1916330     1916330   \n",
            "\n",
            "         Idle Mean  Idle Std  Idle Max  Idle Min   Label  \n",
            "70304          0.0       0.0         0         0  BENIGN  \n",
            "44759          0.0       0.0         0         0    DDoS  \n",
            "152318         0.0       0.0         0         0    DDoS  \n",
            "73644    8092769.0       0.0   8092769   8092769    DDoS  \n",
            "185744  99000000.0       0.0  99000000  99000000  BENIGN  \n",
            "\n",
            "[5 rows x 85 columns]\n"
          ]
        }
      ],
      "source": [
        "# choosing 10% of data\n",
        "df_10 = df.sample(frac=0.10)\n",
        "print(f\"The number of records in the selected 10% of the data: {df_10.shape[0]}\")\n",
        "\n",
        "print(df_10.head())\n",
        "\n",
        "# Saving the sample to a CSV file\n",
        "df_10.to_csv('sample_10_percent.csv', index=False)"
      ]
    },
    {
      "cell_type": "code",
      "execution_count": 5,
      "metadata": {
        "colab": {
          "base_uri": "https://localhost:8080/"
        },
        "id": "T9BRnhZKA0R_",
        "outputId": "b860041f-27b4-46bf-dfda-eb725699f870"
      },
      "outputs": [
        {
          "output_type": "stream",
          "name": "stdout",
          "text": [
            "<class 'pandas.core.frame.DataFrame'>\n",
            "Index: 22574 entries, 70304 to 162502\n",
            "Data columns (total 85 columns):\n",
            " #   Column                       Non-Null Count  Dtype  \n",
            "---  ------                       --------------  -----  \n",
            " 0   Flow ID                      22574 non-null  object \n",
            " 1   Source IP                    22574 non-null  object \n",
            " 2   Source Port                  22574 non-null  int64  \n",
            " 3   Destination IP               22574 non-null  object \n",
            " 4   Destination Port             22574 non-null  int64  \n",
            " 5   Protocol                     22574 non-null  int64  \n",
            " 6   Timestamp                    22574 non-null  object \n",
            " 7   Flow Duration                22574 non-null  int64  \n",
            " 8   Total Fwd Packets            22574 non-null  int64  \n",
            " 9   Total Backward Packets       22574 non-null  int64  \n",
            " 10  Total Length of Fwd Packets  22574 non-null  int64  \n",
            " 11  Total Length of Bwd Packets  22574 non-null  int64  \n",
            " 12  Fwd Packet Length Max        22574 non-null  int64  \n",
            " 13  Fwd Packet Length Min        22574 non-null  int64  \n",
            " 14  Fwd Packet Length Mean       22574 non-null  float64\n",
            " 15  Fwd Packet Length Std        22574 non-null  float64\n",
            " 16  Bwd Packet Length Max        22574 non-null  int64  \n",
            " 17  Bwd Packet Length Min        22574 non-null  int64  \n",
            " 18  Bwd Packet Length Mean       22574 non-null  float64\n",
            " 19  Bwd Packet Length Std        22574 non-null  float64\n",
            " 20  Flow Bytes/s                 22574 non-null  float64\n",
            " 21  Flow Packets/s               22574 non-null  float64\n",
            " 22  Flow IAT Mean                22574 non-null  float64\n",
            " 23  Flow IAT Std                 22574 non-null  float64\n",
            " 24  Flow IAT Max                 22574 non-null  int64  \n",
            " 25  Flow IAT Min                 22574 non-null  int64  \n",
            " 26  Fwd IAT Total                22574 non-null  int64  \n",
            " 27  Fwd IAT Mean                 22574 non-null  float64\n",
            " 28  Fwd IAT Std                  22574 non-null  float64\n",
            " 29  Fwd IAT Max                  22574 non-null  int64  \n",
            " 30  Fwd IAT Min                  22574 non-null  int64  \n",
            " 31  Bwd IAT Total                22574 non-null  int64  \n",
            " 32  Bwd IAT Mean                 22574 non-null  float64\n",
            " 33  Bwd IAT Std                  22574 non-null  float64\n",
            " 34  Bwd IAT Max                  22574 non-null  int64  \n",
            " 35  Bwd IAT Min                  22574 non-null  int64  \n",
            " 36  Fwd PSH Flags                22574 non-null  int64  \n",
            " 37  Bwd PSH Flags                22574 non-null  int64  \n",
            " 38  Fwd URG Flags                22574 non-null  int64  \n",
            " 39  Bwd URG Flags                22574 non-null  int64  \n",
            " 40  Fwd Header Length            22574 non-null  int64  \n",
            " 41  Bwd Header Length            22574 non-null  int64  \n",
            " 42  Fwd Packets/s                22574 non-null  float64\n",
            " 43  Bwd Packets/s                22574 non-null  float64\n",
            " 44  Min Packet Length            22574 non-null  int64  \n",
            " 45  Max Packet Length            22574 non-null  int64  \n",
            " 46  Packet Length Mean           22574 non-null  float64\n",
            " 47  Packet Length Std            22574 non-null  float64\n",
            " 48  Packet Length Variance       22574 non-null  float64\n",
            " 49  FIN Flag Count               22574 non-null  int64  \n",
            " 50  SYN Flag Count               22574 non-null  int64  \n",
            " 51  RST Flag Count               22574 non-null  int64  \n",
            " 52  PSH Flag Count               22574 non-null  int64  \n",
            " 53  ACK Flag Count               22574 non-null  int64  \n",
            " 54  URG Flag Count               22574 non-null  int64  \n",
            " 55  CWE Flag Count               22574 non-null  int64  \n",
            " 56  ECE Flag Count               22574 non-null  int64  \n",
            " 57  Down/Up Ratio                22574 non-null  int64  \n",
            " 58  Average Packet Size          22574 non-null  float64\n",
            " 59  Avg Fwd Segment Size         22574 non-null  float64\n",
            " 60  Avg Bwd Segment Size         22574 non-null  float64\n",
            " 61  Fwd Header Length.1          22574 non-null  int64  \n",
            " 62  Fwd Avg Bytes/Bulk           22574 non-null  int64  \n",
            " 63  Fwd Avg Packets/Bulk         22574 non-null  int64  \n",
            " 64  Fwd Avg Bulk Rate            22574 non-null  int64  \n",
            " 65  Bwd Avg Bytes/Bulk           22574 non-null  int64  \n",
            " 66  Bwd Avg Packets/Bulk         22574 non-null  int64  \n",
            " 67  Bwd Avg Bulk Rate            22574 non-null  int64  \n",
            " 68  Subflow Fwd Packets          22574 non-null  int64  \n",
            " 69  Subflow Fwd Bytes            22574 non-null  int64  \n",
            " 70  Subflow Bwd Packets          22574 non-null  int64  \n",
            " 71  Subflow Bwd Bytes            22574 non-null  int64  \n",
            " 72  Init_Win_bytes_forward       22574 non-null  int64  \n",
            " 73  Init_Win_bytes_backward      22574 non-null  int64  \n",
            " 74  act_data_pkt_fwd             22574 non-null  int64  \n",
            " 75  min_seg_size_forward         22574 non-null  int64  \n",
            " 76  Active Mean                  22574 non-null  float64\n",
            " 77  Active Std                   22574 non-null  float64\n",
            " 78  Active Max                   22574 non-null  int64  \n",
            " 79  Active Min                   22574 non-null  int64  \n",
            " 80  Idle Mean                    22574 non-null  float64\n",
            " 81  Idle Std                     22574 non-null  float64\n",
            " 82  Idle Max                     22574 non-null  int64  \n",
            " 83  Idle Min                     22574 non-null  int64  \n",
            " 84  Label                        22574 non-null  object \n",
            "dtypes: float64(24), int64(56), object(5)\n",
            "memory usage: 14.8+ MB\n"
          ]
        }
      ],
      "source": [
        "df_10.info()"
      ]
    },
    {
      "cell_type": "code",
      "execution_count": 6,
      "metadata": {
        "colab": {
          "base_uri": "https://localhost:8080/",
          "height": 458
        },
        "id": "f31-gDTc3WuO",
        "outputId": "373a66c6-cb59-4939-9504-b79e57f1187a"
      },
      "outputs": [
        {
          "output_type": "execute_result",
          "data": {
            "text/plain": [
              "Flow ID             0\n",
              "Source IP           0\n",
              "Source Port         0\n",
              "Destination IP      0\n",
              "Destination Port    0\n",
              "                   ..\n",
              "Idle Mean           0\n",
              "Idle Std            0\n",
              "Idle Max            0\n",
              "Idle Min            0\n",
              "Label               0\n",
              "Length: 85, dtype: int64"
            ],
            "text/html": [
              "<div>\n",
              "<style scoped>\n",
              "    .dataframe tbody tr th:only-of-type {\n",
              "        vertical-align: middle;\n",
              "    }\n",
              "\n",
              "    .dataframe tbody tr th {\n",
              "        vertical-align: top;\n",
              "    }\n",
              "\n",
              "    .dataframe thead th {\n",
              "        text-align: right;\n",
              "    }\n",
              "</style>\n",
              "<table border=\"1\" class=\"dataframe\">\n",
              "  <thead>\n",
              "    <tr style=\"text-align: right;\">\n",
              "      <th></th>\n",
              "      <th>0</th>\n",
              "    </tr>\n",
              "  </thead>\n",
              "  <tbody>\n",
              "    <tr>\n",
              "      <th>Flow ID</th>\n",
              "      <td>0</td>\n",
              "    </tr>\n",
              "    <tr>\n",
              "      <th>Source IP</th>\n",
              "      <td>0</td>\n",
              "    </tr>\n",
              "    <tr>\n",
              "      <th>Source Port</th>\n",
              "      <td>0</td>\n",
              "    </tr>\n",
              "    <tr>\n",
              "      <th>Destination IP</th>\n",
              "      <td>0</td>\n",
              "    </tr>\n",
              "    <tr>\n",
              "      <th>Destination Port</th>\n",
              "      <td>0</td>\n",
              "    </tr>\n",
              "    <tr>\n",
              "      <th>...</th>\n",
              "      <td>...</td>\n",
              "    </tr>\n",
              "    <tr>\n",
              "      <th>Idle Mean</th>\n",
              "      <td>0</td>\n",
              "    </tr>\n",
              "    <tr>\n",
              "      <th>Idle Std</th>\n",
              "      <td>0</td>\n",
              "    </tr>\n",
              "    <tr>\n",
              "      <th>Idle Max</th>\n",
              "      <td>0</td>\n",
              "    </tr>\n",
              "    <tr>\n",
              "      <th>Idle Min</th>\n",
              "      <td>0</td>\n",
              "    </tr>\n",
              "    <tr>\n",
              "      <th>Label</th>\n",
              "      <td>0</td>\n",
              "    </tr>\n",
              "  </tbody>\n",
              "</table>\n",
              "<p>85 rows × 1 columns</p>\n",
              "</div><br><label><b>dtype:</b> int64</label>"
            ]
          },
          "metadata": {},
          "execution_count": 6
        }
      ],
      "source": [
        "df_10.isnull().sum()"
      ]
    },
    {
      "cell_type": "code",
      "execution_count": 7,
      "metadata": {
        "colab": {
          "base_uri": "https://localhost:8080/",
          "height": 794
        },
        "id": "fU5cSemrSjLF",
        "outputId": "d42f1432-26d3-4250-fce3-6e3dc1ee43d2"
      },
      "outputs": [
        {
          "output_type": "execute_result",
          "data": {
            "text/plain": [
              "                                       Flow ID      Source IP  Source Port  \\\n",
              "225735  192.168.10.15-52.84.145.216-61301-80-6  52.84.145.216           80   \n",
              "225736  192.168.10.17-52.84.145.38-38130-443-6   52.84.145.38          443   \n",
              "225737   192.168.10.8-72.21.81.253-10398-443-6   72.21.81.253          443   \n",
              "225738    192.168.10.15-72.21.91.29-61376-80-6    72.21.91.29           80   \n",
              "225739    192.168.10.15-72.21.91.29-61377-80-6    72.21.91.29           80   \n",
              "225740    192.168.10.15-72.21.91.29-61374-80-6    72.21.91.29           80   \n",
              "225741    192.168.10.15-72.21.91.29-61378-80-6    72.21.91.29           80   \n",
              "225742    192.168.10.15-72.21.91.29-61375-80-6    72.21.91.29           80   \n",
              "225743   192.168.10.15-8.41.222.187-61323-80-6   8.41.222.187           80   \n",
              "225744     192.168.10.15-8.43.72.21-61326-80-6     8.43.72.21           80   \n",
              "\n",
              "       Destination IP  Destination Port  Protocol      Timestamp  \\\n",
              "225735  192.168.10.15             61301         6  7/7/2017 5:02   \n",
              "225736  192.168.10.17             38130         6  7/7/2017 5:02   \n",
              "225737   192.168.10.8             10398         6  7/7/2017 5:02   \n",
              "225738  192.168.10.15             61376         6  7/7/2017 5:02   \n",
              "225739  192.168.10.15             61377         6  7/7/2017 5:02   \n",
              "225740  192.168.10.15             61374         6  7/7/2017 5:02   \n",
              "225741  192.168.10.15             61378         6  7/7/2017 5:02   \n",
              "225742  192.168.10.15             61375         6  7/7/2017 5:02   \n",
              "225743  192.168.10.15             61323         6  7/7/2017 5:02   \n",
              "225744  192.168.10.15             61326         6  7/7/2017 5:02   \n",
              "\n",
              "        Flow Duration  Total Fwd Packets  Total Backward Packets  ...  \\\n",
              "225735             28                  1                       1  ...   \n",
              "225736             45                  1                       1  ...   \n",
              "225737              4                  2                       0  ...   \n",
              "225738             44                  1                       1  ...   \n",
              "225739             26                  1                       1  ...   \n",
              "225740             61                  1                       1  ...   \n",
              "225741             72                  1                       1  ...   \n",
              "225742             75                  1                       1  ...   \n",
              "225743             48                  2                       0  ...   \n",
              "225744             68                  1                       1  ...   \n",
              "\n",
              "        min_seg_size_forward  Active Mean  Active Std  Active Max  Active Min  \\\n",
              "225735                    20          0.0         0.0           0           0   \n",
              "225736                    32          0.0         0.0           0           0   \n",
              "225737                    20          0.0         0.0           0           0   \n",
              "225738                    20          0.0         0.0           0           0   \n",
              "225739                    20          0.0         0.0           0           0   \n",
              "225740                    20          0.0         0.0           0           0   \n",
              "225741                    20          0.0         0.0           0           0   \n",
              "225742                    20          0.0         0.0           0           0   \n",
              "225743                    20          0.0         0.0           0           0   \n",
              "225744                    20          0.0         0.0           0           0   \n",
              "\n",
              "        Idle Mean  Idle Std  Idle Max  Idle Min   Label  \n",
              "225735        0.0       0.0         0         0  BENIGN  \n",
              "225736        0.0       0.0         0         0  BENIGN  \n",
              "225737        0.0       0.0         0         0  BENIGN  \n",
              "225738        0.0       0.0         0         0  BENIGN  \n",
              "225739        0.0       0.0         0         0  BENIGN  \n",
              "225740        0.0       0.0         0         0  BENIGN  \n",
              "225741        0.0       0.0         0         0  BENIGN  \n",
              "225742        0.0       0.0         0         0  BENIGN  \n",
              "225743        0.0       0.0         0         0  BENIGN  \n",
              "225744        0.0       0.0         0         0  BENIGN  \n",
              "\n",
              "[10 rows x 85 columns]"
            ],
            "text/html": [
              "\n",
              "  <div id=\"df-5c4dae30-92b2-4dd1-a9ff-e3db70797469\" class=\"colab-df-container\">\n",
              "    <div>\n",
              "<style scoped>\n",
              "    .dataframe tbody tr th:only-of-type {\n",
              "        vertical-align: middle;\n",
              "    }\n",
              "\n",
              "    .dataframe tbody tr th {\n",
              "        vertical-align: top;\n",
              "    }\n",
              "\n",
              "    .dataframe thead th {\n",
              "        text-align: right;\n",
              "    }\n",
              "</style>\n",
              "<table border=\"1\" class=\"dataframe\">\n",
              "  <thead>\n",
              "    <tr style=\"text-align: right;\">\n",
              "      <th></th>\n",
              "      <th>Flow ID</th>\n",
              "      <th>Source IP</th>\n",
              "      <th>Source Port</th>\n",
              "      <th>Destination IP</th>\n",
              "      <th>Destination Port</th>\n",
              "      <th>Protocol</th>\n",
              "      <th>Timestamp</th>\n",
              "      <th>Flow Duration</th>\n",
              "      <th>Total Fwd Packets</th>\n",
              "      <th>Total Backward Packets</th>\n",
              "      <th>...</th>\n",
              "      <th>min_seg_size_forward</th>\n",
              "      <th>Active Mean</th>\n",
              "      <th>Active Std</th>\n",
              "      <th>Active Max</th>\n",
              "      <th>Active Min</th>\n",
              "      <th>Idle Mean</th>\n",
              "      <th>Idle Std</th>\n",
              "      <th>Idle Max</th>\n",
              "      <th>Idle Min</th>\n",
              "      <th>Label</th>\n",
              "    </tr>\n",
              "  </thead>\n",
              "  <tbody>\n",
              "    <tr>\n",
              "      <th>225735</th>\n",
              "      <td>192.168.10.15-52.84.145.216-61301-80-6</td>\n",
              "      <td>52.84.145.216</td>\n",
              "      <td>80</td>\n",
              "      <td>192.168.10.15</td>\n",
              "      <td>61301</td>\n",
              "      <td>6</td>\n",
              "      <td>7/7/2017 5:02</td>\n",
              "      <td>28</td>\n",
              "      <td>1</td>\n",
              "      <td>1</td>\n",
              "      <td>...</td>\n",
              "      <td>20</td>\n",
              "      <td>0.0</td>\n",
              "      <td>0.0</td>\n",
              "      <td>0</td>\n",
              "      <td>0</td>\n",
              "      <td>0.0</td>\n",
              "      <td>0.0</td>\n",
              "      <td>0</td>\n",
              "      <td>0</td>\n",
              "      <td>BENIGN</td>\n",
              "    </tr>\n",
              "    <tr>\n",
              "      <th>225736</th>\n",
              "      <td>192.168.10.17-52.84.145.38-38130-443-6</td>\n",
              "      <td>52.84.145.38</td>\n",
              "      <td>443</td>\n",
              "      <td>192.168.10.17</td>\n",
              "      <td>38130</td>\n",
              "      <td>6</td>\n",
              "      <td>7/7/2017 5:02</td>\n",
              "      <td>45</td>\n",
              "      <td>1</td>\n",
              "      <td>1</td>\n",
              "      <td>...</td>\n",
              "      <td>32</td>\n",
              "      <td>0.0</td>\n",
              "      <td>0.0</td>\n",
              "      <td>0</td>\n",
              "      <td>0</td>\n",
              "      <td>0.0</td>\n",
              "      <td>0.0</td>\n",
              "      <td>0</td>\n",
              "      <td>0</td>\n",
              "      <td>BENIGN</td>\n",
              "    </tr>\n",
              "    <tr>\n",
              "      <th>225737</th>\n",
              "      <td>192.168.10.8-72.21.81.253-10398-443-6</td>\n",
              "      <td>72.21.81.253</td>\n",
              "      <td>443</td>\n",
              "      <td>192.168.10.8</td>\n",
              "      <td>10398</td>\n",
              "      <td>6</td>\n",
              "      <td>7/7/2017 5:02</td>\n",
              "      <td>4</td>\n",
              "      <td>2</td>\n",
              "      <td>0</td>\n",
              "      <td>...</td>\n",
              "      <td>20</td>\n",
              "      <td>0.0</td>\n",
              "      <td>0.0</td>\n",
              "      <td>0</td>\n",
              "      <td>0</td>\n",
              "      <td>0.0</td>\n",
              "      <td>0.0</td>\n",
              "      <td>0</td>\n",
              "      <td>0</td>\n",
              "      <td>BENIGN</td>\n",
              "    </tr>\n",
              "    <tr>\n",
              "      <th>225738</th>\n",
              "      <td>192.168.10.15-72.21.91.29-61376-80-6</td>\n",
              "      <td>72.21.91.29</td>\n",
              "      <td>80</td>\n",
              "      <td>192.168.10.15</td>\n",
              "      <td>61376</td>\n",
              "      <td>6</td>\n",
              "      <td>7/7/2017 5:02</td>\n",
              "      <td>44</td>\n",
              "      <td>1</td>\n",
              "      <td>1</td>\n",
              "      <td>...</td>\n",
              "      <td>20</td>\n",
              "      <td>0.0</td>\n",
              "      <td>0.0</td>\n",
              "      <td>0</td>\n",
              "      <td>0</td>\n",
              "      <td>0.0</td>\n",
              "      <td>0.0</td>\n",
              "      <td>0</td>\n",
              "      <td>0</td>\n",
              "      <td>BENIGN</td>\n",
              "    </tr>\n",
              "    <tr>\n",
              "      <th>225739</th>\n",
              "      <td>192.168.10.15-72.21.91.29-61377-80-6</td>\n",
              "      <td>72.21.91.29</td>\n",
              "      <td>80</td>\n",
              "      <td>192.168.10.15</td>\n",
              "      <td>61377</td>\n",
              "      <td>6</td>\n",
              "      <td>7/7/2017 5:02</td>\n",
              "      <td>26</td>\n",
              "      <td>1</td>\n",
              "      <td>1</td>\n",
              "      <td>...</td>\n",
              "      <td>20</td>\n",
              "      <td>0.0</td>\n",
              "      <td>0.0</td>\n",
              "      <td>0</td>\n",
              "      <td>0</td>\n",
              "      <td>0.0</td>\n",
              "      <td>0.0</td>\n",
              "      <td>0</td>\n",
              "      <td>0</td>\n",
              "      <td>BENIGN</td>\n",
              "    </tr>\n",
              "    <tr>\n",
              "      <th>225740</th>\n",
              "      <td>192.168.10.15-72.21.91.29-61374-80-6</td>\n",
              "      <td>72.21.91.29</td>\n",
              "      <td>80</td>\n",
              "      <td>192.168.10.15</td>\n",
              "      <td>61374</td>\n",
              "      <td>6</td>\n",
              "      <td>7/7/2017 5:02</td>\n",
              "      <td>61</td>\n",
              "      <td>1</td>\n",
              "      <td>1</td>\n",
              "      <td>...</td>\n",
              "      <td>20</td>\n",
              "      <td>0.0</td>\n",
              "      <td>0.0</td>\n",
              "      <td>0</td>\n",
              "      <td>0</td>\n",
              "      <td>0.0</td>\n",
              "      <td>0.0</td>\n",
              "      <td>0</td>\n",
              "      <td>0</td>\n",
              "      <td>BENIGN</td>\n",
              "    </tr>\n",
              "    <tr>\n",
              "      <th>225741</th>\n",
              "      <td>192.168.10.15-72.21.91.29-61378-80-6</td>\n",
              "      <td>72.21.91.29</td>\n",
              "      <td>80</td>\n",
              "      <td>192.168.10.15</td>\n",
              "      <td>61378</td>\n",
              "      <td>6</td>\n",
              "      <td>7/7/2017 5:02</td>\n",
              "      <td>72</td>\n",
              "      <td>1</td>\n",
              "      <td>1</td>\n",
              "      <td>...</td>\n",
              "      <td>20</td>\n",
              "      <td>0.0</td>\n",
              "      <td>0.0</td>\n",
              "      <td>0</td>\n",
              "      <td>0</td>\n",
              "      <td>0.0</td>\n",
              "      <td>0.0</td>\n",
              "      <td>0</td>\n",
              "      <td>0</td>\n",
              "      <td>BENIGN</td>\n",
              "    </tr>\n",
              "    <tr>\n",
              "      <th>225742</th>\n",
              "      <td>192.168.10.15-72.21.91.29-61375-80-6</td>\n",
              "      <td>72.21.91.29</td>\n",
              "      <td>80</td>\n",
              "      <td>192.168.10.15</td>\n",
              "      <td>61375</td>\n",
              "      <td>6</td>\n",
              "      <td>7/7/2017 5:02</td>\n",
              "      <td>75</td>\n",
              "      <td>1</td>\n",
              "      <td>1</td>\n",
              "      <td>...</td>\n",
              "      <td>20</td>\n",
              "      <td>0.0</td>\n",
              "      <td>0.0</td>\n",
              "      <td>0</td>\n",
              "      <td>0</td>\n",
              "      <td>0.0</td>\n",
              "      <td>0.0</td>\n",
              "      <td>0</td>\n",
              "      <td>0</td>\n",
              "      <td>BENIGN</td>\n",
              "    </tr>\n",
              "    <tr>\n",
              "      <th>225743</th>\n",
              "      <td>192.168.10.15-8.41.222.187-61323-80-6</td>\n",
              "      <td>8.41.222.187</td>\n",
              "      <td>80</td>\n",
              "      <td>192.168.10.15</td>\n",
              "      <td>61323</td>\n",
              "      <td>6</td>\n",
              "      <td>7/7/2017 5:02</td>\n",
              "      <td>48</td>\n",
              "      <td>2</td>\n",
              "      <td>0</td>\n",
              "      <td>...</td>\n",
              "      <td>20</td>\n",
              "      <td>0.0</td>\n",
              "      <td>0.0</td>\n",
              "      <td>0</td>\n",
              "      <td>0</td>\n",
              "      <td>0.0</td>\n",
              "      <td>0.0</td>\n",
              "      <td>0</td>\n",
              "      <td>0</td>\n",
              "      <td>BENIGN</td>\n",
              "    </tr>\n",
              "    <tr>\n",
              "      <th>225744</th>\n",
              "      <td>192.168.10.15-8.43.72.21-61326-80-6</td>\n",
              "      <td>8.43.72.21</td>\n",
              "      <td>80</td>\n",
              "      <td>192.168.10.15</td>\n",
              "      <td>61326</td>\n",
              "      <td>6</td>\n",
              "      <td>7/7/2017 5:02</td>\n",
              "      <td>68</td>\n",
              "      <td>1</td>\n",
              "      <td>1</td>\n",
              "      <td>...</td>\n",
              "      <td>20</td>\n",
              "      <td>0.0</td>\n",
              "      <td>0.0</td>\n",
              "      <td>0</td>\n",
              "      <td>0</td>\n",
              "      <td>0.0</td>\n",
              "      <td>0.0</td>\n",
              "      <td>0</td>\n",
              "      <td>0</td>\n",
              "      <td>BENIGN</td>\n",
              "    </tr>\n",
              "  </tbody>\n",
              "</table>\n",
              "<p>10 rows × 85 columns</p>\n",
              "</div>\n",
              "    <div class=\"colab-df-buttons\">\n",
              "\n",
              "  <div class=\"colab-df-container\">\n",
              "    <button class=\"colab-df-convert\" onclick=\"convertToInteractive('df-5c4dae30-92b2-4dd1-a9ff-e3db70797469')\"\n",
              "            title=\"Convert this dataframe to an interactive table.\"\n",
              "            style=\"display:none;\">\n",
              "\n",
              "  <svg xmlns=\"http://www.w3.org/2000/svg\" height=\"24px\" viewBox=\"0 -960 960 960\">\n",
              "    <path d=\"M120-120v-720h720v720H120Zm60-500h600v-160H180v160Zm220 220h160v-160H400v160Zm0 220h160v-160H400v160ZM180-400h160v-160H180v160Zm440 0h160v-160H620v160ZM180-180h160v-160H180v160Zm440 0h160v-160H620v160Z\"/>\n",
              "  </svg>\n",
              "    </button>\n",
              "\n",
              "  <style>\n",
              "    .colab-df-container {\n",
              "      display:flex;\n",
              "      gap: 12px;\n",
              "    }\n",
              "\n",
              "    .colab-df-convert {\n",
              "      background-color: #E8F0FE;\n",
              "      border: none;\n",
              "      border-radius: 50%;\n",
              "      cursor: pointer;\n",
              "      display: none;\n",
              "      fill: #1967D2;\n",
              "      height: 32px;\n",
              "      padding: 0 0 0 0;\n",
              "      width: 32px;\n",
              "    }\n",
              "\n",
              "    .colab-df-convert:hover {\n",
              "      background-color: #E2EBFA;\n",
              "      box-shadow: 0px 1px 2px rgba(60, 64, 67, 0.3), 0px 1px 3px 1px rgba(60, 64, 67, 0.15);\n",
              "      fill: #174EA6;\n",
              "    }\n",
              "\n",
              "    .colab-df-buttons div {\n",
              "      margin-bottom: 4px;\n",
              "    }\n",
              "\n",
              "    [theme=dark] .colab-df-convert {\n",
              "      background-color: #3B4455;\n",
              "      fill: #D2E3FC;\n",
              "    }\n",
              "\n",
              "    [theme=dark] .colab-df-convert:hover {\n",
              "      background-color: #434B5C;\n",
              "      box-shadow: 0px 1px 3px 1px rgba(0, 0, 0, 0.15);\n",
              "      filter: drop-shadow(0px 1px 2px rgba(0, 0, 0, 0.3));\n",
              "      fill: #FFFFFF;\n",
              "    }\n",
              "  </style>\n",
              "\n",
              "    <script>\n",
              "      const buttonEl =\n",
              "        document.querySelector('#df-5c4dae30-92b2-4dd1-a9ff-e3db70797469 button.colab-df-convert');\n",
              "      buttonEl.style.display =\n",
              "        google.colab.kernel.accessAllowed ? 'block' : 'none';\n",
              "\n",
              "      async function convertToInteractive(key) {\n",
              "        const element = document.querySelector('#df-5c4dae30-92b2-4dd1-a9ff-e3db70797469');\n",
              "        const dataTable =\n",
              "          await google.colab.kernel.invokeFunction('convertToInteractive',\n",
              "                                                    [key], {});\n",
              "        if (!dataTable) return;\n",
              "\n",
              "        const docLinkHtml = 'Like what you see? Visit the ' +\n",
              "          '<a target=\"_blank\" href=https://colab.research.google.com/notebooks/data_table.ipynb>data table notebook</a>'\n",
              "          + ' to learn more about interactive tables.';\n",
              "        element.innerHTML = '';\n",
              "        dataTable['output_type'] = 'display_data';\n",
              "        await google.colab.output.renderOutput(dataTable, element);\n",
              "        const docLink = document.createElement('div');\n",
              "        docLink.innerHTML = docLinkHtml;\n",
              "        element.appendChild(docLink);\n",
              "      }\n",
              "    </script>\n",
              "  </div>\n",
              "\n",
              "\n",
              "<div id=\"df-42b3a9ed-5ea1-4687-9248-9c9eadf34188\">\n",
              "  <button class=\"colab-df-quickchart\" onclick=\"quickchart('df-42b3a9ed-5ea1-4687-9248-9c9eadf34188')\"\n",
              "            title=\"Suggest charts\"\n",
              "            style=\"display:none;\">\n",
              "\n",
              "<svg xmlns=\"http://www.w3.org/2000/svg\" height=\"24px\"viewBox=\"0 0 24 24\"\n",
              "     width=\"24px\">\n",
              "    <g>\n",
              "        <path d=\"M19 3H5c-1.1 0-2 .9-2 2v14c0 1.1.9 2 2 2h14c1.1 0 2-.9 2-2V5c0-1.1-.9-2-2-2zM9 17H7v-7h2v7zm4 0h-2V7h2v10zm4 0h-2v-4h2v4z\"/>\n",
              "    </g>\n",
              "</svg>\n",
              "  </button>\n",
              "\n",
              "<style>\n",
              "  .colab-df-quickchart {\n",
              "      --bg-color: #E8F0FE;\n",
              "      --fill-color: #1967D2;\n",
              "      --hover-bg-color: #E2EBFA;\n",
              "      --hover-fill-color: #174EA6;\n",
              "      --disabled-fill-color: #AAA;\n",
              "      --disabled-bg-color: #DDD;\n",
              "  }\n",
              "\n",
              "  [theme=dark] .colab-df-quickchart {\n",
              "      --bg-color: #3B4455;\n",
              "      --fill-color: #D2E3FC;\n",
              "      --hover-bg-color: #434B5C;\n",
              "      --hover-fill-color: #FFFFFF;\n",
              "      --disabled-bg-color: #3B4455;\n",
              "      --disabled-fill-color: #666;\n",
              "  }\n",
              "\n",
              "  .colab-df-quickchart {\n",
              "    background-color: var(--bg-color);\n",
              "    border: none;\n",
              "    border-radius: 50%;\n",
              "    cursor: pointer;\n",
              "    display: none;\n",
              "    fill: var(--fill-color);\n",
              "    height: 32px;\n",
              "    padding: 0;\n",
              "    width: 32px;\n",
              "  }\n",
              "\n",
              "  .colab-df-quickchart:hover {\n",
              "    background-color: var(--hover-bg-color);\n",
              "    box-shadow: 0 1px 2px rgba(60, 64, 67, 0.3), 0 1px 3px 1px rgba(60, 64, 67, 0.15);\n",
              "    fill: var(--button-hover-fill-color);\n",
              "  }\n",
              "\n",
              "  .colab-df-quickchart-complete:disabled,\n",
              "  .colab-df-quickchart-complete:disabled:hover {\n",
              "    background-color: var(--disabled-bg-color);\n",
              "    fill: var(--disabled-fill-color);\n",
              "    box-shadow: none;\n",
              "  }\n",
              "\n",
              "  .colab-df-spinner {\n",
              "    border: 2px solid var(--fill-color);\n",
              "    border-color: transparent;\n",
              "    border-bottom-color: var(--fill-color);\n",
              "    animation:\n",
              "      spin 1s steps(1) infinite;\n",
              "  }\n",
              "\n",
              "  @keyframes spin {\n",
              "    0% {\n",
              "      border-color: transparent;\n",
              "      border-bottom-color: var(--fill-color);\n",
              "      border-left-color: var(--fill-color);\n",
              "    }\n",
              "    20% {\n",
              "      border-color: transparent;\n",
              "      border-left-color: var(--fill-color);\n",
              "      border-top-color: var(--fill-color);\n",
              "    }\n",
              "    30% {\n",
              "      border-color: transparent;\n",
              "      border-left-color: var(--fill-color);\n",
              "      border-top-color: var(--fill-color);\n",
              "      border-right-color: var(--fill-color);\n",
              "    }\n",
              "    40% {\n",
              "      border-color: transparent;\n",
              "      border-right-color: var(--fill-color);\n",
              "      border-top-color: var(--fill-color);\n",
              "    }\n",
              "    60% {\n",
              "      border-color: transparent;\n",
              "      border-right-color: var(--fill-color);\n",
              "    }\n",
              "    80% {\n",
              "      border-color: transparent;\n",
              "      border-right-color: var(--fill-color);\n",
              "      border-bottom-color: var(--fill-color);\n",
              "    }\n",
              "    90% {\n",
              "      border-color: transparent;\n",
              "      border-bottom-color: var(--fill-color);\n",
              "    }\n",
              "  }\n",
              "</style>\n",
              "\n",
              "  <script>\n",
              "    async function quickchart(key) {\n",
              "      const quickchartButtonEl =\n",
              "        document.querySelector('#' + key + ' button');\n",
              "      quickchartButtonEl.disabled = true;  // To prevent multiple clicks.\n",
              "      quickchartButtonEl.classList.add('colab-df-spinner');\n",
              "      try {\n",
              "        const charts = await google.colab.kernel.invokeFunction(\n",
              "            'suggestCharts', [key], {});\n",
              "      } catch (error) {\n",
              "        console.error('Error during call to suggestCharts:', error);\n",
              "      }\n",
              "      quickchartButtonEl.classList.remove('colab-df-spinner');\n",
              "      quickchartButtonEl.classList.add('colab-df-quickchart-complete');\n",
              "    }\n",
              "    (() => {\n",
              "      let quickchartButtonEl =\n",
              "        document.querySelector('#df-42b3a9ed-5ea1-4687-9248-9c9eadf34188 button');\n",
              "      quickchartButtonEl.style.display =\n",
              "        google.colab.kernel.accessAllowed ? 'block' : 'none';\n",
              "    })();\n",
              "  </script>\n",
              "</div>\n",
              "\n",
              "    </div>\n",
              "  </div>\n"
            ],
            "application/vnd.google.colaboratory.intrinsic+json": {
              "type": "dataframe"
            }
          },
          "metadata": {},
          "execution_count": 7
        }
      ],
      "source": [
        "df.tail(10)"
      ]
    },
    {
      "cell_type": "code",
      "execution_count": 8,
      "metadata": {
        "colab": {
          "base_uri": "https://localhost:8080/"
        },
        "id": "xkTFV2Ai3s6e",
        "outputId": "57aa0116-944a-46ac-e72b-a65e20174573"
      },
      "outputs": [
        {
          "output_type": "stream",
          "name": "stdout",
          "text": [
            "Total sum of NaN: 4\n"
          ]
        }
      ],
      "source": [
        "# Dropping NaN\n",
        "df_10 = df.dropna()\n",
        "nan_count_total = df.isna().sum().sum()\n",
        "print(f\"Total sum of NaN: {nan_count_total}\")"
      ]
    },
    {
      "cell_type": "code",
      "execution_count": 9,
      "metadata": {
        "colab": {
          "base_uri": "https://localhost:8080/"
        },
        "id": "oWtiAHhG13Wr",
        "outputId": "25af453a-8165-4cc3-fa15-e0b3567df3ec"
      },
      "outputs": [
        {
          "output_type": "execute_result",
          "data": {
            "text/plain": [
              "(225741, 85)"
            ]
          },
          "metadata": {},
          "execution_count": 9
        }
      ],
      "source": [
        "df_10.shape"
      ]
    },
    {
      "cell_type": "code",
      "execution_count": 10,
      "metadata": {
        "colab": {
          "base_uri": "https://localhost:8080/",
          "height": 178
        },
        "id": "W3vcXXOh36Dk",
        "outputId": "9ae3777a-297c-4636-ba40-ddc129bf1f0d"
      },
      "outputs": [
        {
          "output_type": "execute_result",
          "data": {
            "text/plain": [
              "Label\n",
              "DDoS      128027\n",
              "BENIGN     97714\n",
              "Name: count, dtype: int64"
            ],
            "text/html": [
              "<div>\n",
              "<style scoped>\n",
              "    .dataframe tbody tr th:only-of-type {\n",
              "        vertical-align: middle;\n",
              "    }\n",
              "\n",
              "    .dataframe tbody tr th {\n",
              "        vertical-align: top;\n",
              "    }\n",
              "\n",
              "    .dataframe thead th {\n",
              "        text-align: right;\n",
              "    }\n",
              "</style>\n",
              "<table border=\"1\" class=\"dataframe\">\n",
              "  <thead>\n",
              "    <tr style=\"text-align: right;\">\n",
              "      <th></th>\n",
              "      <th>count</th>\n",
              "    </tr>\n",
              "    <tr>\n",
              "      <th>Label</th>\n",
              "      <th></th>\n",
              "    </tr>\n",
              "  </thead>\n",
              "  <tbody>\n",
              "    <tr>\n",
              "      <th>DDoS</th>\n",
              "      <td>128027</td>\n",
              "    </tr>\n",
              "    <tr>\n",
              "      <th>BENIGN</th>\n",
              "      <td>97714</td>\n",
              "    </tr>\n",
              "  </tbody>\n",
              "</table>\n",
              "</div><br><label><b>dtype:</b> int64</label>"
            ]
          },
          "metadata": {},
          "execution_count": 10
        }
      ],
      "source": [
        "df_10['Label'].value_counts()"
      ]
    },
    {
      "cell_type": "markdown",
      "metadata": {
        "id": "_Jdc_Xwj4dqJ"
      },
      "source": [
        "Distribution of DDoS Attack in sample of dataset"
      ]
    },
    {
      "cell_type": "code",
      "execution_count": 11,
      "metadata": {
        "colab": {
          "base_uri": "https://localhost:8080/",
          "height": 290
        },
        "id": "rRDLTxZI3-xY",
        "outputId": "a9b4f705-29a1-4d39-a6f2-d0e1a5e5780c"
      },
      "outputs": [
        {
          "output_type": "display_data",
          "data": {
            "text/plain": [
              "<Figure size 300x300 with 1 Axes>"
            ],
            "image/png": "[encoded data removed]"
          },
          "metadata": {}
        }
      ],
      "source": [
        "label_counts=df['Label'].value_counts()\n",
        "plt.figure(figsize=(3, 3))\n",
        "plt.pie(label_counts, labels=label_counts.index, autopct='%1.1f%%', startangle=140)\n",
        "plt.title('Distribution of DDoS Attack Types')\n",
        "plt.axis('equal')\n",
        "plt.show()"
      ]
    },
    {
      "cell_type": "markdown",
      "metadata": {
        "id": "6ROyPwhl4Zdj"
      },
      "source": [
        "A time series plot showing the number of records per timestamp, grouped by label (e.g., normal or attack). It visualizes how the volume of different types of network traffic changes over time, helping to identify patterns or spikes."
      ]
    },
    {
      "cell_type": "code",
      "execution_count": 12,
      "metadata": {
        "colab": {
          "base_uri": "https://localhost:8080/",
          "height": 573
        },
        "id": "cFwCWDLU4CfD",
        "outputId": "f8138a43-96db-4f1b-c76f-35d0bd3c1b3a"
      },
      "outputs": [
        {
          "output_type": "display_data",
          "data": {
            "text/plain": [
              "<Figure size 1200x600 with 0 Axes>"
            ]
          },
          "metadata": {}
        },
        {
          "output_type": "display_data",
          "data": {
            "text/plain": [
              "<Figure size 640x480 with 1 Axes>"
            ],
            "image/png": "[encoded data removed]"
          },
          "metadata": {}
        }
      ],
      "source": [
        "connection_grouped_by_time=df.groupby(['Label','Timestamp']).size().unstack(level=0)\n",
        "plt.figure(figsize=(12, 6))\n",
        "connection_grouped_by_time.plot()\n",
        "plt.xlabel('Timestamp')\n",
        "plt.ylabel('Number of Lines')\n",
        "plt.xticks(rotation=90)\n",
        "plt.title('Number of Lines per Timestamp')\n",
        "plt.grid(axis='y')\n",
        "plt.show()"
      ]
    },
    {
      "cell_type": "code",
      "execution_count": 13,
      "metadata": {
        "id": "CdCfSSXkX_Hy"
      },
      "outputs": [],
      "source": [
        "# Dropping unnecessary columns\n",
        "X = df_10.drop(columns=['Flow ID', 'Source IP', 'Destination IP', 'Timestamp', 'Label'])\n",
        "y = df_10['Label']"
      ]
    },
    {
      "cell_type": "code",
      "execution_count": 14,
      "metadata": {
        "id": "Fp1tSrCvYEko"
      },
      "outputs": [],
      "source": [
        "X_train, X_test, y_train, y_test = train_test_split(X, y, test_size=0.30, random_state=42)"
      ]
    },
    {
      "cell_type": "code",
      "execution_count": 15,
      "metadata": {
        "id": "BGFxUy-TYdj9"
      },
      "outputs": [],
      "source": [
        "# Replacing inf values ​​with NaN to make them easier to handle\n",
        "X_train = X_train.replace([np.inf, -np.inf], np.nan)\n",
        "\n",
        "# Deleting rows with missing values ​​(including NaN and inf)\n",
        "X_train_clean = X_train.dropna()"
      ]
    },
    {
      "cell_type": "code",
      "execution_count": 16,
      "metadata": {
        "id": "f_cZN1OzYo6s"
      },
      "outputs": [],
      "source": [
        "# Aligning y_train with the new X_train_clean\n",
        "y_train_clean = y_train.loc[X_train_clean.index]\n"
      ]
    },
    {
      "cell_type": "code",
      "execution_count": 17,
      "metadata": {
        "colab": {
          "base_uri": "https://localhost:8080/"
        },
        "id": "3uDPmXDpS4v0",
        "outputId": "4e36f021-89bf-4223-8b16-f4121545c5ce"
      },
      "outputs": [
        {
          "output_type": "stream",
          "name": "stdout",
          "text": [
            "Distribution of variable 'label':\n",
            "Label\n",
            "DDoS      128027\n",
            "BENIGN     97714\n",
            "Name: count, dtype: int64\n"
          ]
        }
      ],
      "source": [
        "label_counts = df_10['Label'].value_counts()\n",
        "print(\"Distribution of variable 'label':\")\n",
        "print(label_counts)"
      ]
    },
    {
      "cell_type": "markdown",
      "metadata": {
        "id": "i8LtC3V25R0v"
      },
      "source": [
        "Selection of features"
      ]
    },
    {
      "cell_type": "code",
      "execution_count": 18,
      "metadata": {
        "id": "jDHxkGyPXpYI"
      },
      "outputs": [],
      "source": [
        "# Using logistic regression as the base model\n",
        "model = LogisticRegression(max_iter=500)"
      ]
    },
    {
      "cell_type": "code",
      "execution_count": 19,
      "metadata": {
        "id": "61auIoY5XtdF"
      },
      "outputs": [],
      "source": [
        "# Forward selection - selection of the best 4 features\n",
        "selector = SequentialFeatureSelector(model, n_features_to_select=4, direction='forward')\n",
        "selector = selector.fit(X_train_clean , y_train_clean)"
      ]
    },
    {
      "cell_type": "code",
      "execution_count": 20,
      "metadata": {
        "colab": {
          "base_uri": "https://localhost:8080/"
        },
        "id": "rQZZAPZiVFa0",
        "outputId": "23d2c105-6710-47b5-d179-adf4cf6ce4ab"
      },
      "outputs": [
        {
          "output_type": "stream",
          "name": "stdout",
          "text": [
            "Selected features (Forward Selection):\n",
            "Index(['Destination Port', 'Fwd Packet Length Mean', 'Init_Win_bytes_backward',\n",
            "       'min_seg_size_forward'],\n",
            "      dtype='object')\n"
          ]
        }
      ],
      "source": [
        "# Display selected features\n",
        "selected_features = selector.get_support(indices=True)\n",
        "\n",
        "# Display the names of selected features\n",
        "selected_feature_names = X_train_clean.columns[selected_features]\n",
        "print(\"Selected features (Forward Selection):\")\n",
        "print(selected_feature_names)"
      ]
    },
    {
      "cell_type": "markdown",
      "source": [
        "zmienne ktore zostaly wybrane, za pomoca i dlatego dokladny opis jakie maja znaczenia dla ddos"
      ],
      "metadata": {
        "id": "ShmocZBU4Nx0"
      }
    },
    {
      "cell_type": "markdown",
      "metadata": {
        "id": "Jqd3_Q3qfSSg"
      },
      "source": [
        "## **Destination Port**\n",
        "- critical feature in cybersecurity because attackers often target specific services or protocols by flooding particular ports, disrupting the service running on that port. In the context of Distributed Denial of Service (DDoS) attacks, here’s how the Destination Port feature becomes relevant:\n",
        "\n",
        "Port-based DDoS Attacks: Attackers often target specific ports to overwhelm a particular service. For instance:\n",
        "\n",
        "HTTP Floods target web servers by overloading port 80 (HTTP) or port 443 (HTTPS) with fake traffic, making the web service unreachable to legitimate users.\n",
        "DNS Amplification Attacks flood port 53 (DNS) to exhaust the target’s resources by abusing the DNS protocol.\n",
        "Traffic Volume on Specific Ports: An unusually high volume of traffic targeting a single port could indicate a port-specific DDoS attack. For example, if the majority of the attack traffic is directed toward port 80, it likely means the attacker is attempting to overwhelm the web server.\n",
        "\n",
        "Detection of Malicious Patterns: Anomalies in the distribution of destination ports can be a sign of an attack:\n",
        "\n",
        "In normal traffic, a wide range of ports may be used depending on the services requested by users.\n",
        "In contrast, during a DDoS attack, attackers often concentrate their attack on a single destination port, trying to overwhelm the service running on that port.\n",
        "Exploiting Specific Services: Different types of DDoS attacks focus on exploiting vulnerabilities in specific services that are tied to certain ports:\n",
        "\n",
        "SYN flood attacks often target open ports to exhaust system resources.\n",
        "UDP flood attacks send large numbers of UDP packets to random destination ports, trying to overwhelm the target system with excessive packet processing.\n",
        "Service-Specific Defense: Knowing the destination port can help with service-specific defenses. For example:\n",
        "\n",
        "If a DDoS attack targets port 80 (HTTP), mitigation strategies might involve web application firewalls (WAFs) or rate limiting.\n",
        "If port 22 (SSH) is being flooded, the server’s administrator might enforce stricter authentication measures or temporarily block the port to protect against brute-force or DoS attacks.\n",
        "\n",
        "\n",
        "## **Fwd Packet Length Mean**\n",
        "A lower-than-usual Fwd Packet Length Mean could indicate that an attacker is sending many small packets to overwhelm the server with as many requests as possible (e.g., in HTTP flood or SYN flood attacks).\n",
        "A higher-than-usual Fwd Packet Length Mean might be seen in attacks where attackers attempt to exhaust bandwidth with large packets, such as in certain amplification attacks.\n",
        "\n",
        "Abnormal Traffic Patterns: During a DDoS attack, the client (often an attacker or a botnet) sends a large volume of requests to overwhelm the server. This can cause abnormal packet sizes or traffic patterns in the forward direction. For example, in certain types of DDoS attacks (e.g., SYN flood attacks), attackers might send a high number of small packets, leading to a lower average forward packet length.\n",
        "\n",
        "Detection of Flooding Attacks: In certain DDoS attacks, especially volumetric attacks (where the goal is to exhaust bandwidth or server resources), there could be significant deviations in the average packet size. A sudden increase or decrease in the average packet length could indicate an ongoing attack, as malicious traffic often differs in size from legitimate traffic.\n",
        "\n",
        "Traffic Profiling: By analyzing the average forward packet length, security systems can profile what normal traffic looks like. For example, web traffic usually has a certain pattern of request sizes. If there is a deviation from this normal profile (e.g., the average packet length drops significantly due to an influx of small attack packets), this might indicate malicious activity.\n",
        "\n",
        "Exploiting Protocols: Attackers can manipulate packet sizes to exploit certain vulnerabilities in network protocols. For instance, sending abnormally small or large packets may trigger buffer overflow vulnerabilities or force a server to handle resources inefficiently.\n",
        "\n",
        "## **Init_Win_bytes_backward**\n",
        " represents the initial size of the backward (server-to-client) TCP window, and variations in this feature can be used to detect network anomalies, including potential DDoS attacks or other forms of cyberattacks. Unusual values could signal that the network or server is under stress, which is a typical outcome of such attacks.\n",
        "\n",
        "Attack Detection: Abnormal window sizes in the backward flow could indicate malicious activity. For instance, during a DDoS attack, an attacker may send a flood of requests, overwhelming the server. This could result in unusual patterns in the backward flow (e.g., abnormal Init_Win_bytes_backward values due to the server struggling to handle the load).\n",
        "\n",
        "Congestion and Resource Strain: DDoS attacks often lead to congestion on the victim’s network, which could be reflected in abnormal adjustments to the window size. For example, during a high-volume attack, the server might reduce the window size to prevent being overwhelmed, or there may be delays in acknowledgments due to resource exhaustion.\n",
        "\n",
        "Protocol Anomalies: Changes in the TCP window size can also be indicative of protocol manipulation, where attackers try to exploit vulnerabilities in the TCP/IP stack by manipulating how data flows between a server and a client.\n",
        "\n",
        "## **min_seg_size_forward**\n",
        "\n",
        "refers to the minimum segment size of packets sent in the forward direction during a network communication session. Here’s a detailed breakdown:\n",
        "\n",
        "Forward Flow:\n",
        "The forward flow refers to the direction of data being sent from the client to the server in a network connection. The forward flow contains requests or commands from the client to the server, as opposed to the backward flow, which represents the server’s responses to the client.\n",
        "Segment Size:\n",
        "In the context of network protocols like TCP (Transmission Control Protocol), segment size refers to the amount of data (in bytes) that is encapsulated in a packet.\n",
        "The minimum segment size forward is the smallest packet size (excluding headers) observed in the forward flow (client to server) during a connection.\n",
        "Context in Cybersecurity and DDoS Attacks:\n",
        "In the context of cybersecurity, especially with regards to Distributed Denial of Service (DDoS) attacks, the min_seg_size_forward feature can be a valuable indicator of malicious network activity.\n",
        "\n",
        "Small Packet Attacks: Some types of DDoS attacks, such as SYN flood attacks or ICMP floods, involve sending a large number of small packets to overwhelm a target server. These attacks typically exploit the network’s ability to handle large volumes of very small data segments.\n",
        "\n",
        "A very low min_seg_size_forward could indicate that the network is being bombarded with minimal-sized packets, which is a common tactic in such attacks.\n",
        "Protocol Misuse: Attackers might send extremely small segments in an attempt to misuse network protocols. For example, in a SYN flood attack, the attacker sends many SYN packets (which are small segments) without completing the TCP handshake, leaving the server waiting for a response. This often results in a very low min_seg_size_forward.\n",
        "\n",
        "Congestion and Resource Exhaustion: In a DDoS attack, the goal is often to overwhelm the server’s resources by sending a flood of requests. When attackers use small packets, they can trigger high rates of packet processing without actually sending large amounts of data. The server is forced to handle many small segments, leading to resource exhaustion.\n",
        "\n",
        "Monitoring the minimum segment size can help detect when the network is receiving abnormally small requests, which can be an early warning of congestion or impending server overload.\n",
        "Traffic Profiling: Under normal circumstances, most client-to-server communications (e.g., web requests, file transfers) have a typical range of segment sizes. An unusually low min_seg_size_forward might indicate abnormal traffic patterns. For example, legitimate requests might involve larger segments as part of normal data transfer, while a DDoS attack might flood the server with numerous small requests.\n",
        "\n",
        "Detection of Slowloris-type Attacks: In some attacks, like the Slowloris attack, the attacker sends very small segments at a very slow rate to tie up server connections without fully establishing them. This can also result in a low minimum segment size in the forward flow. Monitoring this feature helps detect such low-bandwidth, high-impact attacks.\n",
        "\n"
      ]
    },
    {
      "cell_type": "code",
      "execution_count": 21,
      "metadata": {
        "colab": {
          "base_uri": "https://localhost:8080/",
          "height": 458
        },
        "id": "UDeFureaW1RR",
        "outputId": "e5855d32-b4b1-4eea-d49c-9078d21c39b1"
      },
      "outputs": [
        {
          "output_type": "execute_result",
          "data": {
            "text/plain": [
              "25876       DDoS\n",
              "116520      DDoS\n",
              "150470      DDoS\n",
              "98295       DDoS\n",
              "168134      DDoS\n",
              "           ...  \n",
              "119882    BENIGN\n",
              "103697    BENIGN\n",
              "131935      DDoS\n",
              "146870    BENIGN\n",
              "121961      DDoS\n",
              "Name: Label, Length: 157999, dtype: object"
            ],
            "text/html": [
              "<div>\n",
              "<style scoped>\n",
              "    .dataframe tbody tr th:only-of-type {\n",
              "        vertical-align: middle;\n",
              "    }\n",
              "\n",
              "    .dataframe tbody tr th {\n",
              "        vertical-align: top;\n",
              "    }\n",
              "\n",
              "    .dataframe thead th {\n",
              "        text-align: right;\n",
              "    }\n",
              "</style>\n",
              "<table border=\"1\" class=\"dataframe\">\n",
              "  <thead>\n",
              "    <tr style=\"text-align: right;\">\n",
              "      <th></th>\n",
              "      <th>Label</th>\n",
              "    </tr>\n",
              "  </thead>\n",
              "  <tbody>\n",
              "    <tr>\n",
              "      <th>25876</th>\n",
              "      <td>DDoS</td>\n",
              "    </tr>\n",
              "    <tr>\n",
              "      <th>116520</th>\n",
              "      <td>DDoS</td>\n",
              "    </tr>\n",
              "    <tr>\n",
              "      <th>150470</th>\n",
              "      <td>DDoS</td>\n",
              "    </tr>\n",
              "    <tr>\n",
              "      <th>98295</th>\n",
              "      <td>DDoS</td>\n",
              "    </tr>\n",
              "    <tr>\n",
              "      <th>168134</th>\n",
              "      <td>DDoS</td>\n",
              "    </tr>\n",
              "    <tr>\n",
              "      <th>...</th>\n",
              "      <td>...</td>\n",
              "    </tr>\n",
              "    <tr>\n",
              "      <th>119882</th>\n",
              "      <td>BENIGN</td>\n",
              "    </tr>\n",
              "    <tr>\n",
              "      <th>103697</th>\n",
              "      <td>BENIGN</td>\n",
              "    </tr>\n",
              "    <tr>\n",
              "      <th>131935</th>\n",
              "      <td>DDoS</td>\n",
              "    </tr>\n",
              "    <tr>\n",
              "      <th>146870</th>\n",
              "      <td>BENIGN</td>\n",
              "    </tr>\n",
              "    <tr>\n",
              "      <th>121961</th>\n",
              "      <td>DDoS</td>\n",
              "    </tr>\n",
              "  </tbody>\n",
              "</table>\n",
              "<p>157999 rows × 1 columns</p>\n",
              "</div><br><label><b>dtype:</b> object</label>"
            ]
          },
          "metadata": {},
          "execution_count": 21
        }
      ],
      "source": [
        "y_train_clean"
      ]
    },
    {
      "cell_type": "code",
      "execution_count": 24,
      "metadata": {
        "colab": {
          "base_uri": "https://localhost:8080/"
        },
        "id": "D7T5oqe3X8N_",
        "outputId": "da09e01d-824a-44a3-d082-90964e13c1d1"
      },
      "outputs": [
        {
          "output_type": "stream",
          "name": "stdout",
          "text": [
            "Label\n",
            "DDoS      128027\n",
            "BENIGN     97718\n",
            "Name: count, dtype: int64\n"
          ]
        }
      ],
      "source": [
        "# counting values in Label\n",
        "label_counts = df['Label'].value_counts()\n",
        "\n",
        "print(label_counts)"
      ]
    },
    {
      "cell_type": "code",
      "execution_count": 25,
      "metadata": {
        "colab": {
          "base_uri": "https://localhost:8080/",
          "height": 178
        },
        "id": "jyKrVd8_YIDo",
        "outputId": "84297a5c-99a2-4ab8-e759-77e8f68dac25"
      },
      "outputs": [
        {
          "output_type": "execute_result",
          "data": {
            "text/plain": [
              "Label\n",
              "DDoS      89519\n",
              "BENIGN    68480\n",
              "Name: count, dtype: int64"
            ],
            "text/html": [
              "<div>\n",
              "<style scoped>\n",
              "    .dataframe tbody tr th:only-of-type {\n",
              "        vertical-align: middle;\n",
              "    }\n",
              "\n",
              "    .dataframe tbody tr th {\n",
              "        vertical-align: top;\n",
              "    }\n",
              "\n",
              "    .dataframe thead th {\n",
              "        text-align: right;\n",
              "    }\n",
              "</style>\n",
              "<table border=\"1\" class=\"dataframe\">\n",
              "  <thead>\n",
              "    <tr style=\"text-align: right;\">\n",
              "      <th></th>\n",
              "      <th>count</th>\n",
              "    </tr>\n",
              "    <tr>\n",
              "      <th>Label</th>\n",
              "      <th></th>\n",
              "    </tr>\n",
              "  </thead>\n",
              "  <tbody>\n",
              "    <tr>\n",
              "      <th>DDoS</th>\n",
              "      <td>89519</td>\n",
              "    </tr>\n",
              "    <tr>\n",
              "      <th>BENIGN</th>\n",
              "      <td>68480</td>\n",
              "    </tr>\n",
              "  </tbody>\n",
              "</table>\n",
              "</div><br><label><b>dtype:</b> int64</label>"
            ]
          },
          "metadata": {},
          "execution_count": 25
        }
      ],
      "source": [
        "y_train_clean.value_counts()"
      ]
    },
    {
      "cell_type": "code",
      "execution_count": 26,
      "metadata": {
        "colab": {
          "base_uri": "https://localhost:8080/",
          "height": 80
        },
        "id": "uaV0rmytA8RF",
        "outputId": "46cc6ce3-544f-4592-d03c-b7f8d17c3e65"
      },
      "outputs": [
        {
          "output_type": "execute_result",
          "data": {
            "text/plain": [
              "LabelEncoder()"
            ],
            "text/html": [
              "<style>#sk-container-id-1 {\n",
              "  /* Definition of color scheme common for light and dark mode */\n",
              "  --sklearn-color-text: black;\n",
              "  --sklearn-color-line: gray;\n",
              "  /* Definition of color scheme for unfitted estimators */\n",
              "  --sklearn-color-unfitted-level-0: #fff5e6;\n",
              "  --sklearn-color-unfitted-level-1: #f6e4d2;\n",
              "  --sklearn-color-unfitted-level-2: #ffe0b3;\n",
              "  --sklearn-color-unfitted-level-3: chocolate;\n",
              "  /* Definition of color scheme for fitted estimators */\n",
              "  --sklearn-color-fitted-level-0: #f0f8ff;\n",
              "  --sklearn-color-fitted-level-1: #d4ebff;\n",
              "  --sklearn-color-fitted-level-2: #b3dbfd;\n",
              "  --sklearn-color-fitted-level-3: cornflowerblue;\n",
              "\n",
              "  /* Specific color for light theme */\n",
              "  --sklearn-color-text-on-default-background: var(--sg-text-color, var(--theme-code-foreground, var(--jp-content-font-color1, black)));\n",
              "  --sklearn-color-background: var(--sg-background-color, var(--theme-background, var(--jp-layout-color0, white)));\n",
              "  --sklearn-color-border-box: var(--sg-text-color, var(--theme-code-foreground, var(--jp-content-font-color1, black)));\n",
              "  --sklearn-color-icon: #696969;\n",
              "\n",
              "  @media (prefers-color-scheme: dark) {\n",
              "    /* Redefinition of color scheme for dark theme */\n",
              "    --sklearn-color-text-on-default-background: var(--sg-text-color, var(--theme-code-foreground, var(--jp-content-font-color1, white)));\n",
              "    --sklearn-color-background: var(--sg-background-color, var(--theme-background, var(--jp-layout-color0, #111)));\n",
              "    --sklearn-color-border-box: var(--sg-text-color, var(--theme-code-foreground, var(--jp-content-font-color1, white)));\n",
              "    --sklearn-color-icon: #878787;\n",
              "  }\n",
              "}\n",
              "\n",
              "#sk-container-id-1 {\n",
              "  color: var(--sklearn-color-text);\n",
              "}\n",
              "\n",
              "#sk-container-id-1 pre {\n",
              "  padding: 0;\n",
              "}\n",
              "\n",
              "#sk-container-id-1 input.sk-hidden--visually {\n",
              "  border: 0;\n",
              "  clip: rect(1px 1px 1px 1px);\n",
              "  clip: rect(1px, 1px, 1px, 1px);\n",
              "  height: 1px;\n",
              "  margin: -1px;\n",
              "  overflow: hidden;\n",
              "  padding: 0;\n",
              "  position: absolute;\n",
              "  width: 1px;\n",
              "}\n",
              "\n",
              "#sk-container-id-1 div.sk-dashed-wrapped {\n",
              "  border: 1px dashed var(--sklearn-color-line);\n",
              "  margin: 0 0.4em 0.5em 0.4em;\n",
              "  box-sizing: border-box;\n",
              "  padding-bottom: 0.4em;\n",
              "  background-color: var(--sklearn-color-background);\n",
              "}\n",
              "\n",
              "#sk-container-id-1 div.sk-container {\n",
              "  /* jupyter's `normalize.less` sets `[hidden] { display: none; }`\n",
              "     but bootstrap.min.css set `[hidden] { display: none !important; }`\n",
              "     so we also need the `!important` here to be able to override the\n",
              "     default hidden behavior on the sphinx rendered scikit-learn.org.\n",
              "     See: https://github.com/scikit-learn/scikit-learn/issues/21755 */\n",
              "  display: inline-block !important;\n",
              "  position: relative;\n",
              "}\n",
              "\n",
              "#sk-container-id-1 div.sk-text-repr-fallback {\n",
              "  display: none;\n",
              "}\n",
              "\n",
              "div.sk-parallel-item,\n",
              "div.sk-serial,\n",
              "div.sk-item {\n",
              "  /* draw centered vertical line to link estimators */\n",
              "  background-image: linear-gradient(var(--sklearn-color-text-on-default-background), var(--sklearn-color-text-on-default-background));\n",
              "  background-size: 2px 100%;\n",
              "  background-repeat: no-repeat;\n",
              "  background-position: center center;\n",
              "}\n",
              "\n",
              "/* Parallel-specific style estimator block */\n",
              "\n",
              "#sk-container-id-1 div.sk-parallel-item::after {\n",
              "  content: \"\";\n",
              "  width: 100%;\n",
              "  border-bottom: 2px solid var(--sklearn-color-text-on-default-background);\n",
              "  flex-grow: 1;\n",
              "}\n",
              "\n",
              "#sk-container-id-1 div.sk-parallel {\n",
              "  display: flex;\n",
              "  align-items: stretch;\n",
              "  justify-content: center;\n",
              "  background-color: var(--sklearn-color-background);\n",
              "  position: relative;\n",
              "}\n",
              "\n",
              "#sk-container-id-1 div.sk-parallel-item {\n",
              "  display: flex;\n",
              "  flex-direction: column;\n",
              "}\n",
              "\n",
              "#sk-container-id-1 div.sk-parallel-item:first-child::after {\n",
              "  align-self: flex-end;\n",
              "  width: 50%;\n",
              "}\n",
              "\n",
              "#sk-container-id-1 div.sk-parallel-item:last-child::after {\n",
              "  align-self: flex-start;\n",
              "  width: 50%;\n",
              "}\n",
              "\n",
              "#sk-container-id-1 div.sk-parallel-item:only-child::after {\n",
              "  width: 0;\n",
              "}\n",
              "\n",
              "/* Serial-specific style estimator block */\n",
              "\n",
              "#sk-container-id-1 div.sk-serial {\n",
              "  display: flex;\n",
              "  flex-direction: column;\n",
              "  align-items: center;\n",
              "  background-color: var(--sklearn-color-background);\n",
              "  padding-right: 1em;\n",
              "  padding-left: 1em;\n",
              "}\n",
              "\n",
              "\n",
              "/* Toggleable style: style used for estimator/Pipeline/ColumnTransformer box that is\n",
              "clickable and can be expanded/collapsed.\n",
              "- Pipeline and ColumnTransformer use this feature and define the default style\n",
              "- Estimators will overwrite some part of the style using the `sk-estimator` class\n",
              "*/\n",
              "\n",
              "/* Pipeline and ColumnTransformer style (default) */\n",
              "\n",
              "#sk-container-id-1 div.sk-toggleable {\n",
              "  /* Default theme specific background. It is overwritten whether we have a\n",
              "  specific estimator or a Pipeline/ColumnTransformer */\n",
              "  background-color: var(--sklearn-color-background);\n",
              "}\n",
              "\n",
              "/* Toggleable label */\n",
              "#sk-container-id-1 label.sk-toggleable__label {\n",
              "  cursor: pointer;\n",
              "  display: block;\n",
              "  width: 100%;\n",
              "  margin-bottom: 0;\n",
              "  padding: 0.5em;\n",
              "  box-sizing: border-box;\n",
              "  text-align: center;\n",
              "}\n",
              "\n",
              "#sk-container-id-1 label.sk-toggleable__label-arrow:before {\n",
              "  /* Arrow on the left of the label */\n",
              "  content: \"▸\";\n",
              "  float: left;\n",
              "  margin-right: 0.25em;\n",
              "  color: var(--sklearn-color-icon);\n",
              "}\n",
              "\n",
              "#sk-container-id-1 label.sk-toggleable__label-arrow:hover:before {\n",
              "  color: var(--sklearn-color-text);\n",
              "}\n",
              "\n",
              "/* Toggleable content - dropdown */\n",
              "\n",
              "#sk-container-id-1 div.sk-toggleable__content {\n",
              "  max-height: 0;\n",
              "  max-width: 0;\n",
              "  overflow: hidden;\n",
              "  text-align: left;\n",
              "  /* unfitted */\n",
              "  background-color: var(--sklearn-color-unfitted-level-0);\n",
              "}\n",
              "\n",
              "#sk-container-id-1 div.sk-toggleable__content.fitted {\n",
              "  /* fitted */\n",
              "  background-color: var(--sklearn-color-fitted-level-0);\n",
              "}\n",
              "\n",
              "#sk-container-id-1 div.sk-toggleable__content pre {\n",
              "  margin: 0.2em;\n",
              "  border-radius: 0.25em;\n",
              "  color: var(--sklearn-color-text);\n",
              "  /* unfitted */\n",
              "  background-color: var(--sklearn-color-unfitted-level-0);\n",
              "}\n",
              "\n",
              "#sk-container-id-1 div.sk-toggleable__content.fitted pre {\n",
              "  /* unfitted */\n",
              "  background-color: var(--sklearn-color-fitted-level-0);\n",
              "}\n",
              "\n",
              "#sk-container-id-1 input.sk-toggleable__control:checked~div.sk-toggleable__content {\n",
              "  /* Expand drop-down */\n",
              "  max-height: 200px;\n",
              "  max-width: 100%;\n",
              "  overflow: auto;\n",
              "}\n",
              "\n",
              "#sk-container-id-1 input.sk-toggleable__control:checked~label.sk-toggleable__label-arrow:before {\n",
              "  content: \"▾\";\n",
              "}\n",
              "\n",
              "/* Pipeline/ColumnTransformer-specific style */\n",
              "\n",
              "#sk-container-id-1 div.sk-label input.sk-toggleable__control:checked~label.sk-toggleable__label {\n",
              "  color: var(--sklearn-color-text);\n",
              "  background-color: var(--sklearn-color-unfitted-level-2);\n",
              "}\n",
              "\n",
              "#sk-container-id-1 div.sk-label.fitted input.sk-toggleable__control:checked~label.sk-toggleable__label {\n",
              "  background-color: var(--sklearn-color-fitted-level-2);\n",
              "}\n",
              "\n",
              "/* Estimator-specific style */\n",
              "\n",
              "/* Colorize estimator box */\n",
              "#sk-container-id-1 div.sk-estimator input.sk-toggleable__control:checked~label.sk-toggleable__label {\n",
              "  /* unfitted */\n",
              "  background-color: var(--sklearn-color-unfitted-level-2);\n",
              "}\n",
              "\n",
              "#sk-container-id-1 div.sk-estimator.fitted input.sk-toggleable__control:checked~label.sk-toggleable__label {\n",
              "  /* fitted */\n",
              "  background-color: var(--sklearn-color-fitted-level-2);\n",
              "}\n",
              "\n",
              "#sk-container-id-1 div.sk-label label.sk-toggleable__label,\n",
              "#sk-container-id-1 div.sk-label label {\n",
              "  /* The background is the default theme color */\n",
              "  color: var(--sklearn-color-text-on-default-background);\n",
              "}\n",
              "\n",
              "/* On hover, darken the color of the background */\n",
              "#sk-container-id-1 div.sk-label:hover label.sk-toggleable__label {\n",
              "  color: var(--sklearn-color-text);\n",
              "  background-color: var(--sklearn-color-unfitted-level-2);\n",
              "}\n",
              "\n",
              "/* Label box, darken color on hover, fitted */\n",
              "#sk-container-id-1 div.sk-label.fitted:hover label.sk-toggleable__label.fitted {\n",
              "  color: var(--sklearn-color-text);\n",
              "  background-color: var(--sklearn-color-fitted-level-2);\n",
              "}\n",
              "\n",
              "/* Estimator label */\n",
              "\n",
              "#sk-container-id-1 div.sk-label label {\n",
              "  font-family: monospace;\n",
              "  font-weight: bold;\n",
              "  display: inline-block;\n",
              "  line-height: 1.2em;\n",
              "}\n",
              "\n",
              "#sk-container-id-1 div.sk-label-container {\n",
              "  text-align: center;\n",
              "}\n",
              "\n",
              "/* Estimator-specific */\n",
              "#sk-container-id-1 div.sk-estimator {\n",
              "  font-family: monospace;\n",
              "  border: 1px dotted var(--sklearn-color-border-box);\n",
              "  border-radius: 0.25em;\n",
              "  box-sizing: border-box;\n",
              "  margin-bottom: 0.5em;\n",
              "  /* unfitted */\n",
              "  background-color: var(--sklearn-color-unfitted-level-0);\n",
              "}\n",
              "\n",
              "#sk-container-id-1 div.sk-estimator.fitted {\n",
              "  /* fitted */\n",
              "  background-color: var(--sklearn-color-fitted-level-0);\n",
              "}\n",
              "\n",
              "/* on hover */\n",
              "#sk-container-id-1 div.sk-estimator:hover {\n",
              "  /* unfitted */\n",
              "  background-color: var(--sklearn-color-unfitted-level-2);\n",
              "}\n",
              "\n",
              "#sk-container-id-1 div.sk-estimator.fitted:hover {\n",
              "  /* fitted */\n",
              "  background-color: var(--sklearn-color-fitted-level-2);\n",
              "}\n",
              "\n",
              "/* Specification for estimator info (e.g. \"i\" and \"?\") */\n",
              "\n",
              "/* Common style for \"i\" and \"?\" */\n",
              "\n",
              ".sk-estimator-doc-link,\n",
              "a:link.sk-estimator-doc-link,\n",
              "a:visited.sk-estimator-doc-link {\n",
              "  float: right;\n",
              "  font-size: smaller;\n",
              "  line-height: 1em;\n",
              "  font-family: monospace;\n",
              "  background-color: var(--sklearn-color-background);\n",
              "  border-radius: 1em;\n",
              "  height: 1em;\n",
              "  width: 1em;\n",
              "  text-decoration: none !important;\n",
              "  margin-left: 1ex;\n",
              "  /* unfitted */\n",
              "  border: var(--sklearn-color-unfitted-level-1) 1pt solid;\n",
              "  color: var(--sklearn-color-unfitted-level-1);\n",
              "}\n",
              "\n",
              ".sk-estimator-doc-link.fitted,\n",
              "a:link.sk-estimator-doc-link.fitted,\n",
              "a:visited.sk-estimator-doc-link.fitted {\n",
              "  /* fitted */\n",
              "  border: var(--sklearn-color-fitted-level-1) 1pt solid;\n",
              "  color: var(--sklearn-color-fitted-level-1);\n",
              "}\n",
              "\n",
              "/* On hover */\n",
              "div.sk-estimator:hover .sk-estimator-doc-link:hover,\n",
              ".sk-estimator-doc-link:hover,\n",
              "div.sk-label-container:hover .sk-estimator-doc-link:hover,\n",
              ".sk-estimator-doc-link:hover {\n",
              "  /* unfitted */\n",
              "  background-color: var(--sklearn-color-unfitted-level-3);\n",
              "  color: var(--sklearn-color-background);\n",
              "  text-decoration: none;\n",
              "}\n",
              "\n",
              "div.sk-estimator.fitted:hover .sk-estimator-doc-link.fitted:hover,\n",
              ".sk-estimator-doc-link.fitted:hover,\n",
              "div.sk-label-container:hover .sk-estimator-doc-link.fitted:hover,\n",
              ".sk-estimator-doc-link.fitted:hover {\n",
              "  /* fitted */\n",
              "  background-color: var(--sklearn-color-fitted-level-3);\n",
              "  color: var(--sklearn-color-background);\n",
              "  text-decoration: none;\n",
              "}\n",
              "\n",
              "/* Span, style for the box shown on hovering the info icon */\n",
              ".sk-estimator-doc-link span {\n",
              "  display: none;\n",
              "  z-index: 9999;\n",
              "  position: relative;\n",
              "  font-weight: normal;\n",
              "  right: .2ex;\n",
              "  padding: .5ex;\n",
              "  margin: .5ex;\n",
              "  width: min-content;\n",
              "  min-width: 20ex;\n",
              "  max-width: 50ex;\n",
              "  color: var(--sklearn-color-text);\n",
              "  box-shadow: 2pt 2pt 4pt #999;\n",
              "  /* unfitted */\n",
              "  background: var(--sklearn-color-unfitted-level-0);\n",
              "  border: .5pt solid var(--sklearn-color-unfitted-level-3);\n",
              "}\n",
              "\n",
              ".sk-estimator-doc-link.fitted span {\n",
              "  /* fitted */\n",
              "  background: var(--sklearn-color-fitted-level-0);\n",
              "  border: var(--sklearn-color-fitted-level-3);\n",
              "}\n",
              "\n",
              ".sk-estimator-doc-link:hover span {\n",
              "  display: block;\n",
              "}\n",
              "\n",
              "/* \"?\"-specific style due to the `<a>` HTML tag */\n",
              "\n",
              "#sk-container-id-1 a.estimator_doc_link {\n",
              "  float: right;\n",
              "  font-size: 1rem;\n",
              "  line-height: 1em;\n",
              "  font-family: monospace;\n",
              "  background-color: var(--sklearn-color-background);\n",
              "  border-radius: 1rem;\n",
              "  height: 1rem;\n",
              "  width: 1rem;\n",
              "  text-decoration: none;\n",
              "  /* unfitted */\n",
              "  color: var(--sklearn-color-unfitted-level-1);\n",
              "  border: var(--sklearn-color-unfitted-level-1) 1pt solid;\n",
              "}\n",
              "\n",
              "#sk-container-id-1 a.estimator_doc_link.fitted {\n",
              "  /* fitted */\n",
              "  border: var(--sklearn-color-fitted-level-1) 1pt solid;\n",
              "  color: var(--sklearn-color-fitted-level-1);\n",
              "}\n",
              "\n",
              "/* On hover */\n",
              "#sk-container-id-1 a.estimator_doc_link:hover {\n",
              "  /* unfitted */\n",
              "  background-color: var(--sklearn-color-unfitted-level-3);\n",
              "  color: var(--sklearn-color-background);\n",
              "  text-decoration: none;\n",
              "}\n",
              "\n",
              "#sk-container-id-1 a.estimator_doc_link.fitted:hover {\n",
              "  /* fitted */\n",
              "  background-color: var(--sklearn-color-fitted-level-3);\n",
              "}\n",
              "</style><div id=\"sk-container-id-1\" class=\"sk-top-container\"><div class=\"sk-text-repr-fallback\"><pre>LabelEncoder()</pre><b>In a Jupyter environment, please rerun this cell to show the HTML representation or trust the notebook. <br />On GitHub, the HTML representation is unable to render, please try loading this page with nbviewer.org.</b></div><div class=\"sk-container\" hidden><div class=\"sk-item\"><div class=\"sk-estimator fitted sk-toggleable\"><input class=\"sk-toggleable__control sk-hidden--visually\" id=\"sk-estimator-id-1\" type=\"checkbox\" checked><label for=\"sk-estimator-id-1\" class=\"sk-toggleable__label fitted sk-toggleable__label-arrow fitted\">&nbsp;&nbsp;LabelEncoder<a class=\"sk-estimator-doc-link fitted\" rel=\"noreferrer\" target=\"_blank\" href=\"https://scikit-learn.org/1.5/modules/generated/sklearn.preprocessing.LabelEncoder.html\">?<span>Documentation for LabelEncoder</span></a><span class=\"sk-estimator-doc-link fitted\">i<span>Fitted</span></span></label><div class=\"sk-toggleable__content fitted\"><pre>LabelEncoder()</pre></div> </div></div></div></div>"
            ]
          },
          "metadata": {},
          "execution_count": 26
        }
      ],
      "source": [
        "#Label encoder\n",
        "le = LabelEncoder()\n",
        "\n",
        "labels = df_10['Label']\n",
        "le.fit(labels)"
      ]
    },
    {
      "cell_type": "markdown",
      "metadata": {
        "id": "LgwEnU_7EvMR"
      },
      "source": [
        "## **MODEL I - applying best features selected by Forward Selection**\n"
      ]
    },
    {
      "cell_type": "code",
      "execution_count": 73,
      "metadata": {
        "id": "_JZyl1eSKQOB"
      },
      "outputs": [],
      "source": [
        "df_selected = df_10 [['Destination Port', 'Fwd Packet Length Mean',\n",
        "       'Init_Win_bytes_backward', 'min_seg_size_forward']]"
      ]
    },
    {
      "cell_type": "markdown",
      "metadata": {
        "id": "H1EPY_dHddtV"
      },
      "source": []
    },
    {
      "cell_type": "code",
      "execution_count": 74,
      "metadata": {
        "id": "kRPq0IjpCN4g"
      },
      "outputs": [],
      "source": [
        "# initializing df_features\n",
        "\n",
        "df_features = df_selected.to_dict(orient='records')\n",
        "\n",
        "vec = DictVectorizer(dtype=np.float32)\n",
        "features = vec.fit_transform(df_features).toarray()"
      ]
    },
    {
      "cell_type": "markdown",
      "metadata": {
        "id": "whAlp4H9CJr_"
      },
      "source": [
        "df_selected.to_dict(orient='records') transforms DataFrame data into a list of dictionaries. DictVectorizer turns these dictionaries into a numerical feature matrix, where each column corresponds to one of the features (keys in the dictionary), and the values ​​in the cells are the assigned values ​​from the rows of the DataFrame. The final output is an array of NumPy features that can be used as input to a machine learning model.\n"
      ]
    },
    {
      "cell_type": "code",
      "execution_count": 75,
      "metadata": {
        "id": "T3IlvZIjCSxL"
      },
      "outputs": [],
      "source": [
        "features = (np.ceil(features)).astype(np.float32)\n",
        "\n",
        "from sklearn.model_selection import train_test_split\n",
        "\n",
        "X_train, X_test, y_train, y_test = train_test_split(features, labels,test_size=0.30, random_state=42)"
      ]
    },
    {
      "cell_type": "code",
      "execution_count": 76,
      "metadata": {
        "colab": {
          "base_uri": "https://localhost:8080/"
        },
        "id": "9RfjSyK6DR0Q",
        "outputId": "154426ea-e151-4612-e818-22cffe346010"
      },
      "outputs": [
        {
          "output_type": "stream",
          "name": "stdout",
          "text": [
            "Number of samples in features: 225741\n",
            "Number of samples in labels: 225741\n"
          ]
        }
      ],
      "source": [
        "print(\"Number of samples in features:\", features.shape[0])\n",
        "print(\"Number of samples in labels:\", len(labels))"
      ]
    },
    {
      "cell_type": "code",
      "execution_count": 77,
      "metadata": {
        "id": "tShKDf2tt3zn"
      },
      "outputs": [],
      "source": [
        "# Using Logistic Regression as the base model\n",
        "\n",
        "model_lgI= LogisticRegression(max_iter=500)"
      ]
    },
    {
      "cell_type": "code",
      "execution_count": 79,
      "metadata": {
        "id": "KijuD2iSQuvC"
      },
      "outputs": [],
      "source": [
        "# fitting\n",
        "model_lgI.fit(X_train, y_train)\n",
        "\n",
        "# prediction\n",
        "y_pred_lrI = model_lgI.predict(X_test)"
      ]
    },
    {
      "cell_type": "code",
      "execution_count": 80,
      "metadata": {
        "colab": {
          "base_uri": "https://localhost:8080/"
        },
        "id": "wUYi7uklQ9Q4",
        "outputId": "abe76041-968a-4e1e-95f7-33f82a879012"
      },
      "outputs": [
        {
          "output_type": "stream",
          "name": "stdout",
          "text": [
            "Accuracy: 0.990328248896239\n",
            "Precision: 0.9904878773173278\n",
            "Recall: 0.990328248896239\n",
            "F1-score: 0.9903142996911773\n",
            "confusion matrix:\n",
            "[[28563   653]\n",
            " [    2 38505]]\n",
            "report:\n",
            "              precision    recall  f1-score   support\n",
            "\n",
            "      BENIGN       1.00      0.98      0.99     29216\n",
            "        DDoS       0.98      1.00      0.99     38507\n",
            "\n",
            "    accuracy                           0.99     67723\n",
            "   macro avg       0.99      0.99      0.99     67723\n",
            "weighted avg       0.99      0.99      0.99     67723\n",
            "\n"
          ]
        }
      ],
      "source": [
        "# Model evaluation\n",
        "accuracy = accuracy_score(y_test, y_pred_lrI)\n",
        "precision = precision_score(y_test, y_pred_lrI, average='weighted')  # 'weighted' for unbalanced classes\n",
        "recall = recall_score(y_test, y_pred_lrI, average='weighted')\n",
        "f1 = f1_score(y_test, y_pred_lrI, average='weighted')\n",
        "\n",
        "# results\n",
        "print(\"Accuracy:\", accuracy)\n",
        "print(\"Precision:\", precision)\n",
        "print(\"Recall:\", recall)\n",
        "print(\"F1-score:\", f1)\n",
        "\n",
        "# confusion matrix\n",
        "conf_matrix = confusion_matrix(y_test, y_pred_lrI)\n",
        "print(\"confusion matrix:\")\n",
        "print(conf_matrix)\n",
        "\n",
        "# Classification report\n",
        "report = classification_report(y_test, y_pred_lrI)\n",
        "print(\"report:\")\n",
        "print(report)"
      ]
    },
    {
      "cell_type": "code",
      "execution_count": 81,
      "metadata": {
        "colab": {
          "base_uri": "https://localhost:8080/",
          "height": 333
        },
        "id": "RRSxDvd9bywk",
        "outputId": "184f3b1c-ed8f-4627-8d54-97dca0282c43"
      },
      "outputs": [
        {
          "output_type": "display_data",
          "data": {
            "text/plain": [
              "<Figure size 300x300 with 1 Axes>"
            ],
            "image/png": "[encoded data removed]"
          },
          "metadata": {}
        }
      ],
      "source": [
        "# confusion matrix\n",
        "conf_matrix = confusion_matrix(y_test, y_pred_lrI)\n",
        "\n",
        "# plotting\n",
        "plt.figure(figsize=(3, 3))\n",
        "sns.heatmap(conf_matrix, annot=True, fmt=\"d\", cmap=\"Blues\", cbar=False)\n",
        "plt.title('Confusion Matrix')\n",
        "plt.xlabel('Predicted Labels')\n",
        "plt.ylabel('True Labels')\n",
        "plt.show()"
      ]
    },
    {
      "cell_type": "markdown",
      "metadata": {
        "id": "qDPoppPeFC9n"
      },
      "source": [
        "Model accuracy allows you to evaluate the overall performance of the classifier.\n",
        "The classification report gives detailed metrics such as precision, recall and F1-score for each class.\n",
        "The confusion matrix shows where the model makes classification errors.\n",
        "Feature importance shows which features most influence the model's predictions."
      ]
    },
    {
      "cell_type": "code",
      "execution_count": 82,
      "metadata": {
        "colab": {
          "base_uri": "https://localhost:8080/"
        },
        "id": "F-NDgr0FFgvM",
        "outputId": "0c97202e-ce8c-42f2-cdd8-c4d8f995c531"
      },
      "outputs": [
        {
          "output_type": "stream",
          "name": "stdout",
          "text": [
            "accuracy_score: 99.41%\n",
            "              precision    recall  f1-score   support\n",
            "\n",
            "      BENIGN       1.00      0.99      0.99     29216\n",
            "        DDoS       0.99      1.00      0.99     38507\n",
            "\n",
            "    accuracy                           0.99     67723\n",
            "   macro avg       0.99      0.99      0.99     67723\n",
            "weighted avg       0.99      0.99      0.99     67723\n",
            "\n"
          ]
        }
      ],
      "source": [
        "# Initialize the KNN classifier\n",
        "clf_knI = KNeighborsClassifier(n_neighbors=5)\n",
        "\n",
        "# Train the classifier\n",
        "clf_knI.fit(X_train, y_train)\n",
        "\n",
        "# Make predictions\n",
        "y_pred_knI = clf_knI.predict(X_test)\n",
        "\n",
        "# Print performance\n",
        "acc_kn = accuracy_score(y_test, y_pred_knI)\n",
        "print(f\"accuracy_score: {acc_kn * 100:.2f}%\")\n",
        "print(classification_report(y_test, y_pred_knI))"
      ]
    },
    {
      "cell_type": "code",
      "execution_count": 83,
      "metadata": {
        "colab": {
          "base_uri": "https://localhost:8080/",
          "height": 644
        },
        "id": "fu1YAdTYUn3R",
        "outputId": "f5df1510-ab25-4611-ecc2-514783852476"
      },
      "outputs": [
        {
          "output_type": "stream",
          "name": "stdout",
          "text": [
            "Accuracy: 0.9941378852088655\n",
            "Precision: 0.9941964081195156\n",
            "Recall: 0.9941378852088655\n",
            "F1-score: 0.994132919268586\n",
            "confusion matrix:\n",
            "[[28821   395]\n",
            " [    2 38505]]\n"
          ]
        },
        {
          "output_type": "display_data",
          "data": {
            "text/plain": [
              "<Figure size 300x300 with 1 Axes>"
            ],
            "image/png": "[encoded data removed]"
          },
          "metadata": {}
        },
        {
          "output_type": "stream",
          "name": "stdout",
          "text": [
            "report:\n",
            "              precision    recall  f1-score   support\n",
            "\n",
            "      BENIGN       1.00      0.99      0.99     29216\n",
            "        DDoS       0.99      1.00      0.99     38507\n",
            "\n",
            "    accuracy                           0.99     67723\n",
            "   macro avg       0.99      0.99      0.99     67723\n",
            "weighted avg       0.99      0.99      0.99     67723\n",
            "\n"
          ]
        }
      ],
      "source": [
        "# Model evaluation\n",
        "accuracy = accuracy_score(y_test, y_pred_knI)\n",
        "precision = precision_score(y_test, y_pred_knI, average='weighted')\n",
        "recall = recall_score(y_test, y_pred_knI, average='weighted')\n",
        "f1 = f1_score(y_test, y_pred_knI, average='weighted')\n",
        "\n",
        "# results\n",
        "print(\"Accuracy:\", accuracy)\n",
        "print(\"Precision:\", precision)\n",
        "print(\"Recall:\", recall)\n",
        "print(\"F1-score:\", f1)\n",
        "\n",
        "# confusion matrix\n",
        "conf_matrix = confusion_matrix(y_test, y_pred_knI)\n",
        "print(\"confusion matrix:\")\n",
        "print(conf_matrix)\n",
        "\n",
        "# plotting\n",
        "plt.figure(figsize=(3, 3))\n",
        "sns.heatmap(conf_matrix, annot=True, fmt=\"d\", cmap=\"Blues\", cbar=False)\n",
        "plt.title('Confusion Matrix')\n",
        "plt.xlabel('Predicted Labels')\n",
        "plt.ylabel('True Labels')\n",
        "plt.show()\n",
        "\n",
        "\n",
        "# Classification report\n",
        "report = classification_report(y_test, y_pred_knI)\n",
        "print(\"report:\")\n",
        "print(report)"
      ]
    },
    {
      "cell_type": "code",
      "execution_count": 84,
      "metadata": {
        "id": "BjgrPYONFndB",
        "colab": {
          "base_uri": "https://localhost:8080/",
          "height": 644
        },
        "outputId": "acd82dc6-db48-4821-cea8-6d1f311d24f2"
      },
      "outputs": [
        {
          "output_type": "stream",
          "name": "stdout",
          "text": [
            "Accuracy: 0.9941378852088655\n",
            "Precision: 0.9941957646124642\n",
            "Recall: 0.9941378852088655\n",
            "F1-score: 0.9941329456035097\n",
            "confusion matrix:\n",
            "[[28822   394]\n",
            " [    3 38504]]\n"
          ]
        },
        {
          "output_type": "display_data",
          "data": {
            "text/plain": [
              "<Figure size 300x300 with 1 Axes>"
            ],
            "image/png": "[encoded data removed]"
          },
          "metadata": {}
        },
        {
          "output_type": "stream",
          "name": "stdout",
          "text": [
            "report:\n",
            "              precision    recall  f1-score   support\n",
            "\n",
            "      BENIGN       1.00      0.99      0.99     29216\n",
            "        DDoS       0.99      1.00      0.99     38507\n",
            "\n",
            "    accuracy                           0.99     67723\n",
            "   macro avg       0.99      0.99      0.99     67723\n",
            "weighted avg       0.99      0.99      0.99     67723\n",
            "\n"
          ]
        }
      ],
      "source": [
        "# Initialize the Decision Tree classifier\n",
        "clf_dtI = DecisionTreeClassifier(random_state=42)\n",
        "\n",
        "# Train the classifier\n",
        "clf_dtI.fit(X_train, y_train)\n",
        "\n",
        "# Make predictions\n",
        "y_pred_dtI = clf_dtI.predict(X_test)\n",
        "\n",
        "# Model evaluation\n",
        "accuracy = accuracy_score(y_test, y_pred_dtI)\n",
        "precision = precision_score(y_test, y_pred_dtI, average='weighted')\n",
        "recall = recall_score(y_test, y_pred_dtI, average='weighted')\n",
        "f1 = f1_score(y_test, y_pred_dtI, average='weighted')\n",
        "\n",
        "# results\n",
        "print(\"Accuracy:\", accuracy)\n",
        "print(\"Precision:\", precision)\n",
        "print(\"Recall:\", recall)\n",
        "print(\"F1-score:\", f1)\n",
        "\n",
        "# confusion matrix\n",
        "conf_matrix = confusion_matrix(y_test, y_pred_dtI)\n",
        "print(\"confusion matrix:\")\n",
        "print(conf_matrix)\n",
        "\n",
        "# plotting\n",
        "plt.figure(figsize=(3, 3))\n",
        "sns.heatmap(conf_matrix, annot=True, fmt=\"d\", cmap=\"Blues\", cbar=False)\n",
        "plt.title('Confusion Matrix')\n",
        "plt.xlabel('Predicted Labels')\n",
        "plt.ylabel('True Labels')\n",
        "plt.show()\n",
        "\n",
        "\n",
        "# Classification report\n",
        "report = classification_report(y_test, y_pred_dtI)\n",
        "print(\"report:\")\n",
        "print(report)"
      ]
    },
    {
      "cell_type": "code",
      "execution_count": 85,
      "metadata": {
        "id": "B9PU3bIgGM2J"
      },
      "outputs": [],
      "source": [
        "from sklearn.naive_bayes import GaussianNB\n",
        "# Initialize the Naive Bayes classifier\n",
        "clf_gI= GaussianNB()\n",
        "\n",
        "# Train the classifier\n",
        "clf_gI.fit(X_train, y_train)\n",
        "\n",
        "# Make predictions\n",
        "y_pred_gI = clf_gI.predict(X_test)"
      ]
    },
    {
      "cell_type": "code",
      "execution_count": 86,
      "metadata": {
        "colab": {
          "base_uri": "https://localhost:8080/",
          "height": 644
        },
        "id": "GF8XDctNVVkY",
        "outputId": "9bd3b58a-e439-4087-8d55-4e2ffb08bc68"
      },
      "outputs": [
        {
          "output_type": "stream",
          "name": "stdout",
          "text": [
            "Accuracy: 0.9815572257578666\n",
            "Precision: 0.9821325989003484\n",
            "Recall: 0.9815572257578666\n",
            "F1-score: 0.9815031702745172\n",
            "confusion matrix:\n",
            "[[27969  1247]\n",
            " [    2 38505]]\n"
          ]
        },
        {
          "output_type": "display_data",
          "data": {
            "text/plain": [
              "<Figure size 300x300 with 1 Axes>"
            ],
            "image/png": "[encoded data removed]"
          },
          "metadata": {}
        },
        {
          "output_type": "stream",
          "name": "stdout",
          "text": [
            "report:\n",
            "              precision    recall  f1-score   support\n",
            "\n",
            "      BENIGN       1.00      0.96      0.98     29216\n",
            "        DDoS       0.97      1.00      0.98     38507\n",
            "\n",
            "    accuracy                           0.98     67723\n",
            "   macro avg       0.98      0.98      0.98     67723\n",
            "weighted avg       0.98      0.98      0.98     67723\n",
            "\n"
          ]
        }
      ],
      "source": [
        "# Model evaluation\n",
        "accuracy = accuracy_score(y_test, y_pred_gI)\n",
        "precision = precision_score(y_test, y_pred_gI, average='weighted')\n",
        "recall = recall_score(y_test, y_pred_gI, average='weighted')\n",
        "f1 = f1_score(y_test, y_pred_gI, average='weighted')\n",
        "\n",
        "# results\n",
        "print(\"Accuracy:\", accuracy)\n",
        "print(\"Precision:\", precision)\n",
        "print(\"Recall:\", recall)\n",
        "print(\"F1-score:\", f1)\n",
        "\n",
        "# confusion matrix\n",
        "conf_matrix = confusion_matrix(y_test, y_pred_gI)\n",
        "print(\"confusion matrix:\")\n",
        "print(conf_matrix)\n",
        "\n",
        "# plotting\n",
        "plt.figure(figsize=(3, 3))\n",
        "sns.heatmap(conf_matrix, annot=True, fmt=\"d\", cmap=\"Blues\", cbar=False)\n",
        "plt.title('Confusion Matrix')\n",
        "plt.xlabel('Predicted Labels')\n",
        "plt.ylabel('True Labels')\n",
        "plt.show()\n",
        "\n",
        "\n",
        "# Classification report\n",
        "report = classification_report(y_test, y_pred_gI)\n",
        "print(\"report:\")\n",
        "print(report)"
      ]
    },
    {
      "cell_type": "markdown",
      "metadata": {
        "id": "1Eq7VwXbGuYP"
      },
      "source": [
        "_______________________________________________________________________________________________________"
      ]
    },
    {
      "cell_type": "markdown",
      "metadata": {
        "id": "Mn7RQaTxGw2w"
      },
      "source": [
        "## **MODEL II**\n",
        "\n",
        "In the second model, I utilize a different set of features selected based on my expertise and understanding of DDoS attacks. For this model, I chose variables that are particularly relevant to identifying patterns commonly associated with such attacks. Specifically, the selected features include:\n",
        "\n",
        "Destination Port: DDoS attacks often target specific ports, making this feature essential for distinguishing malicious from legitimate traffic.\n",
        "Average Packet Size: This metric can vary significantly in DDoS scenarios, as attackers might send packets of unusual sizes to overload the system.\n",
        "URG Flag Count: The count of URG (urgent) flags is considered, as unusual flag patterns can indicate suspicious activity or protocol abuse.\n",
        "Flow Duration: The length of time a flow remains active can provide clues about abnormal connections typically seen in DDoS attacks.\n",
        "By selecting these features, I aim to enhance the model's accuracy in detecting DDoS attacks by focusing on variables that are theoretically and practically relevant to attack behavior."
      ]
    },
    {
      "cell_type": "code",
      "execution_count": 87,
      "metadata": {
        "id": "Jp_F70psHcX7"
      },
      "outputs": [],
      "source": [
        "df_selected_II = df_10[['Destination Port', 'Average Packet Size', 'URG Flag Count','Flow Duration' ]]"
      ]
    },
    {
      "cell_type": "code",
      "execution_count": 88,
      "metadata": {
        "colab": {
          "base_uri": "https://localhost:8080/",
          "height": 644
        },
        "id": "ah6IwLcIHfD_",
        "outputId": "e15c2459-c6ec-4435-8d4a-a134284cd952"
      },
      "outputs": [
        {
          "output_type": "stream",
          "name": "stdout",
          "text": [
            "Accuracy: 0.7383902071674321\n",
            "Precision: 0.7709546805271866\n",
            "Recall: 0.7383902071674321\n",
            "F1-score: 0.7379457876827407\n",
            "confusion matrix:\n",
            "[[25390  3826]\n",
            " [13891 24616]]\n",
            "report:\n",
            "              precision    recall  f1-score   support\n",
            "\n",
            "      BENIGN       1.00      0.98      0.99     29216\n",
            "        DDoS       0.98      1.00      0.99     38507\n",
            "\n",
            "    accuracy                           0.99     67723\n",
            "   macro avg       0.99      0.99      0.99     67723\n",
            "weighted avg       0.99      0.99      0.99     67723\n",
            "\n"
          ]
        },
        {
          "output_type": "display_data",
          "data": {
            "text/plain": [
              "<Figure size 300x300 with 1 Axes>"
            ],
            "image/png": "[encoded data removed]"
          },
          "metadata": {}
        }
      ],
      "source": [
        "df_features = df_selected_II.to_dict(orient='records')\n",
        "\n",
        "vec = DictVectorizer(dtype=np.float32)\n",
        "features = vec.fit_transform(df_features).toarray()\n",
        "\n",
        "features = (np.ceil(features)).astype(np.float32)\n",
        "\n",
        "\n",
        "X_train, X_test, y_train, y_test = train_test_split(features, labels,test_size=0.30, random_state=42)\n",
        "\n",
        "\n",
        "# Using logistic regression as the base model\n",
        "model_lgII= LogisticRegression(max_iter=500)\n",
        "\n",
        "# fitting\n",
        "model_lgII.fit(X_train, y_train)\n",
        "\n",
        "# prediction\n",
        "y_pred_lrII = model_lgII.predict(X_test)\n",
        "\n",
        "# Model evaluation\n",
        "accuracy = accuracy_score(y_test, y_pred_lrII)\n",
        "precision = precision_score(y_test, y_pred_lrII, average='weighted')  # 'weighted' for unbalanced classes\n",
        "recall = recall_score(y_test, y_pred_lrII, average='weighted')\n",
        "f1 = f1_score(y_test, y_pred_lrII, average='weighted')\n",
        "\n",
        "# results\n",
        "print(\"Accuracy:\", accuracy)\n",
        "print(\"Precision:\", precision)\n",
        "print(\"Recall:\", recall)\n",
        "print(\"F1-score:\", f1)\n",
        "\n",
        "# confusion matrix\n",
        "conf_matrix = confusion_matrix(y_test, y_pred_lrII)\n",
        "print(\"confusion matrix:\")\n",
        "print(conf_matrix)\n",
        "\n",
        "# Classification report\n",
        "report = classification_report(y_test, y_pred_lr)\n",
        "print(\"report:\")\n",
        "print(report)\n",
        "\n",
        "# confusion matrix\n",
        "conf_matrix = confusion_matrix(y_test, y_pred_lrII)\n",
        "\n",
        "# plotting\n",
        "plt.figure(figsize=(3, 3))\n",
        "sns.heatmap(conf_matrix, annot=True, fmt=\"d\", cmap=\"Blues\", cbar=False)\n",
        "plt.title('Confusion Matrix')\n",
        "plt.xlabel('Predicted Labels')\n",
        "plt.ylabel('True Labels')\n",
        "plt.show()\n"
      ]
    },
    {
      "cell_type": "code",
      "execution_count": 90,
      "metadata": {
        "colab": {
          "base_uri": "https://localhost:8080/",
          "height": 826
        },
        "id": "Mohklq_0ONqJ",
        "outputId": "1e10aab1-e3b4-4c8b-ea93-0ac5b0c14e9e"
      },
      "outputs": [
        {
          "output_type": "stream",
          "name": "stdout",
          "text": [
            "accuracy_score: 95.63%\n",
            "              precision    recall  f1-score   support\n",
            "\n",
            "      BENIGN       0.97      0.93      0.95     29216\n",
            "        DDoS       0.95      0.98      0.96     38507\n",
            "\n",
            "    accuracy                           0.96     67723\n",
            "   macro avg       0.96      0.95      0.96     67723\n",
            "weighted avg       0.96      0.96      0.96     67723\n",
            "\n",
            "Accuracy: 0.9563220766947713\n",
            "Precision: 0.9565906290129789\n",
            "Recall: 0.9563220766947713\n",
            "F1-score: 0.9562148629891278\n",
            "confusion matrix:\n",
            "[[27206  2010]\n",
            " [  948 37559]]\n"
          ]
        },
        {
          "output_type": "display_data",
          "data": {
            "text/plain": [
              "<Figure size 300x300 with 1 Axes>"
            ],
            "image/png": "[encoded data removed]"
          },
          "metadata": {}
        },
        {
          "output_type": "stream",
          "name": "stdout",
          "text": [
            "report:\n",
            "              precision    recall  f1-score   support\n",
            "\n",
            "      BENIGN       0.97      0.93      0.95     29216\n",
            "        DDoS       0.95      0.98      0.96     38507\n",
            "\n",
            "    accuracy                           0.96     67723\n",
            "   macro avg       0.96      0.95      0.96     67723\n",
            "weighted avg       0.96      0.96      0.96     67723\n",
            "\n"
          ]
        }
      ],
      "source": [
        "# Initialize the KNN classifier\n",
        "clf_knII = KNeighborsClassifier(n_neighbors=5)\n",
        "\n",
        "# Train the classifier\n",
        "clf_knII.fit(X_train, y_train)\n",
        "\n",
        "# Make predictions\n",
        "y_pred_knII = clf_knII.predict(X_test)\n",
        "\n",
        "# Print performance\n",
        "acc_kn = accuracy_score(y_test, y_pred_knII)\n",
        "print(f\"accuracy_score: {acc_kn * 100:.2f}%\")\n",
        "print(classification_report(y_test, y_pred_knII))\n",
        "\n",
        "# Model evaluation\n",
        "accuracy = accuracy_score(y_test, y_pred_knII)\n",
        "precision = precision_score(y_test, y_pred_knII, average='weighted')\n",
        "recall = recall_score(y_test, y_pred_knII, average='weighted')\n",
        "f1 = f1_score(y_test, y_pred_knII, average='weighted')\n",
        "\n",
        "# results\n",
        "print(\"Accuracy:\", accuracy)\n",
        "print(\"Precision:\", precision)\n",
        "print(\"Recall:\", recall)\n",
        "print(\"F1-score:\", f1)\n",
        "\n",
        "# confusion matrix\n",
        "conf_matrix = confusion_matrix(y_test, y_pred_knII)\n",
        "print(\"confusion matrix:\")\n",
        "print(conf_matrix)\n",
        "\n",
        "# plotting\n",
        "plt.figure(figsize=(3, 3))\n",
        "sns.heatmap(conf_matrix, annot=True, fmt=\"d\", cmap=\"Blues\", cbar=False)\n",
        "plt.title('Confusion Matrix')\n",
        "plt.xlabel('Predicted Labels')\n",
        "plt.ylabel('True Labels')\n",
        "plt.show()\n",
        "\n",
        "\n",
        "# Classification report\n",
        "report = classification_report(y_test, y_pred_knII)\n",
        "print(\"report:\")\n",
        "print(report)"
      ]
    },
    {
      "cell_type": "code",
      "source": [
        "# Initialize the Decision Tree classifier\n",
        "clf_dtII = DecisionTreeClassifier(random_state=42)\n",
        "\n",
        "# Train the classifier\n",
        "clf_dtII.fit(X_train, y_train)\n",
        "\n",
        "# Make predictions\n",
        "y_pred_dtII = clf_dtII.predict(X_test)\n",
        "\n",
        "# Model evaluation\n",
        "accuracy = accuracy_score(y_test, y_pred_dtII)\n",
        "precision = precision_score(y_test, y_pred_dtII, average='weighted')\n",
        "recall = recall_score(y_test, y_pred_dtII, average='weighted')\n",
        "f1 = f1_score(y_test, y_pred_dtII, average='weighted')\n",
        "\n",
        "# results\n",
        "print(\"Accuracy:\", accuracy)\n",
        "print(\"Precision:\", precision)\n",
        "print(\"Recall:\", recall)\n",
        "print(\"F1-score:\", f1)\n",
        "\n",
        "# confusion matrix\n",
        "conf_matrix = confusion_matrix(y_test, y_pred_dtII)\n",
        "print(\"confusion matrix:\")\n",
        "print(conf_matrix)\n",
        "\n",
        "# plotting\n",
        "plt.figure(figsize=(3, 3))\n",
        "sns.heatmap(conf_matrix, annot=True, fmt=\"d\", cmap=\"Blues\", cbar=False)\n",
        "plt.title('Confusion Matrix')\n",
        "plt.xlabel('Predicted Labels')\n",
        "plt.ylabel('True Labels')\n",
        "plt.show()\n",
        "\n",
        "\n",
        "# Classification report\n",
        "report = classification_report(y_test, y_pred_dtII)\n",
        "print(\"report:\")\n",
        "print(report)"
      ],
      "metadata": {
        "colab": {
          "base_uri": "https://localhost:8080/",
          "height": 644
        },
        "id": "YxUb4VxZs8pm",
        "outputId": "61916638-d8bc-40ff-9b3a-83c6571ce5c9"
      },
      "execution_count": 92,
      "outputs": [
        {
          "output_type": "stream",
          "name": "stdout",
          "text": [
            "Accuracy: 0.9991288040990506\n",
            "Precision: 0.9991288724071313\n",
            "Recall: 0.9991288040990506\n",
            "F1-score: 0.9991288202710358\n",
            "confusion matrix:\n",
            "[[29191    25]\n",
            " [   34 38473]]\n"
          ]
        },
        {
          "output_type": "display_data",
          "data": {
            "text/plain": [
              "<Figure size 300x300 with 1 Axes>"
            ],
            "image/png": "[encoded data removed]"
          },
          "metadata": {}
        },
        {
          "output_type": "stream",
          "name": "stdout",
          "text": [
            "report:\n",
            "              precision    recall  f1-score   support\n",
            "\n",
            "      BENIGN       1.00      1.00      1.00     29216\n",
            "        DDoS       1.00      1.00      1.00     38507\n",
            "\n",
            "    accuracy                           1.00     67723\n",
            "   macro avg       1.00      1.00      1.00     67723\n",
            "weighted avg       1.00      1.00      1.00     67723\n",
            "\n"
          ]
        }
      ]
    },
    {
      "cell_type": "code",
      "execution_count": 93,
      "metadata": {
        "colab": {
          "base_uri": "https://localhost:8080/",
          "height": 644
        },
        "id": "XBKMN67GNDTd",
        "outputId": "5c5b2d81-08ed-43d9-ef43-d5a03c494145"
      },
      "outputs": [
        {
          "output_type": "stream",
          "name": "stdout",
          "text": [
            "Accuracy: 0.7508084402640166\n",
            "Precision: 0.826678830846928\n",
            "Recall: 0.7508084402640166\n",
            "F1-score: 0.7226174026466538\n",
            "confusion matrix:\n",
            "[[12342 16874]\n",
            " [    2 38505]]\n"
          ]
        },
        {
          "output_type": "display_data",
          "data": {
            "text/plain": [
              "<Figure size 300x300 with 1 Axes>"
            ],
            "image/png": "[encoded data removed]"
          },
          "metadata": {}
        },
        {
          "output_type": "stream",
          "name": "stdout",
          "text": [
            "report:\n",
            "              precision    recall  f1-score   support\n",
            "\n",
            "      BENIGN       1.00      0.42      0.59     29216\n",
            "        DDoS       0.70      1.00      0.82     38507\n",
            "\n",
            "    accuracy                           0.75     67723\n",
            "   macro avg       0.85      0.71      0.71     67723\n",
            "weighted avg       0.83      0.75      0.72     67723\n",
            "\n"
          ]
        }
      ],
      "source": [
        "# Initialize the Naive Bayes classifier\n",
        "clf_gII = GaussianNB()\n",
        "\n",
        "# Train the classifier\n",
        "clf_gII.fit(X_train, y_train)\n",
        "\n",
        "# Make predictions\n",
        "y_pred_gII = clf_gII.predict(X_test)\n",
        "# Model evaluation\n",
        "accuracy = accuracy_score(y_test, y_pred_gII)\n",
        "precision = precision_score(y_test, y_pred_gII, average='weighted')\n",
        "recall = recall_score(y_test, y_pred_gII, average='weighted')\n",
        "f1 = f1_score(y_test, y_pred_gII, average='weighted')\n",
        "\n",
        "# results\n",
        "print(\"Accuracy:\", accuracy)\n",
        "print(\"Precision:\", precision)\n",
        "print(\"Recall:\", recall)\n",
        "print(\"F1-score:\", f1)\n",
        "\n",
        "# confusion matrix\n",
        "conf_matrix = confusion_matrix(y_test, y_pred_g)\n",
        "print(\"confusion matrix:\")\n",
        "print(conf_matrix)\n",
        "\n",
        "# plotting\n",
        "plt.figure(figsize=(3, 3))\n",
        "sns.heatmap(conf_matrix, annot=True, fmt=\"d\", cmap=\"Blues\", cbar=False)\n",
        "plt.title('Confusion Matrix')\n",
        "plt.xlabel('Predicted Labels')\n",
        "plt.ylabel('True Labels')\n",
        "plt.show()\n",
        "\n",
        "# Classification report\n",
        "report = classification_report(y_test, y_pred_gII)\n",
        "print(\"report:\")\n",
        "print(report)"
      ]
    },
    {
      "cell_type": "markdown",
      "metadata": {
        "id": "Yezp7mK0LGq-"
      },
      "source": [
        "___________________________________________________________________________________________________________________"
      ]
    },
    {
      "cell_type": "markdown",
      "metadata": {
        "id": "I6vZXZavLIks"
      },
      "source": [
        "## **MODEL III** - checking just one feature"
      ]
    },
    {
      "cell_type": "markdown",
      "metadata": {
        "id": "iCL4o4mxBZe0"
      },
      "source": [
        "Monitoring ***mean forward packet length*** can help in identifying potential security threats. For instance, DDoS attacks often involve sending a large number of small packets to overwhelm a target, leading to unusual patterns in packet lengths.\n",
        "For example, a sudden drop in average packet length may indicate a change in the type of data being transferred, which could be the result of a DDoS attack or other anomaly.\n",
        "It can also impact the efficiency of data transmission. Smaller packets may lead to higher overhead due to the additional headers required for each packet, while larger packets can improve throughput but may also increase the chances of fragmentation."
      ]
    },
    {
      "cell_type": "code",
      "execution_count": 94,
      "metadata": {
        "id": "ghrXI4CoJPn2"
      },
      "outputs": [],
      "source": [
        "df_selected_III = df_10[['Fwd Packet Length Mean']]"
      ]
    },
    {
      "cell_type": "code",
      "execution_count": 95,
      "metadata": {
        "colab": {
          "base_uri": "https://localhost:8080/",
          "height": 644
        },
        "id": "B1WU1Dz1J53V",
        "outputId": "972b9b71-3c69-4553-f3bd-f0eb75a1e04e"
      },
      "outputs": [
        {
          "output_type": "stream",
          "name": "stdout",
          "text": [
            "Accuracy: 0.8646397826440058\n",
            "Precision: 0.8906675359792073\n",
            "Recall: 0.8646397826440058\n",
            "F1-score: 0.8592452614979686\n",
            "confusion matrix:\n",
            "[[20049  9167]\n",
            " [    0 38507]]\n",
            "report:\n",
            "              precision    recall  f1-score   support\n",
            "\n",
            "      BENIGN       1.00      0.69      0.81     29216\n",
            "        DDoS       0.81      1.00      0.89     38507\n",
            "\n",
            "    accuracy                           0.86     67723\n",
            "   macro avg       0.90      0.84      0.85     67723\n",
            "weighted avg       0.89      0.86      0.86     67723\n",
            "\n"
          ]
        },
        {
          "output_type": "display_data",
          "data": {
            "text/plain": [
              "<Figure size 300x300 with 1 Axes>"
            ],
            "image/png": "[encoded data removed]"
          },
          "metadata": {}
        }
      ],
      "source": [
        "df_features = df_selected_III.to_dict(orient='records')\n",
        "# df_features\n",
        "\n",
        "vec = DictVectorizer(dtype=np.float32)\n",
        "features = vec.fit_transform(df_features).toarray()\n",
        "\n",
        "features = (np.ceil(features)).astype(np.float32)\n",
        "\n",
        "\n",
        "X_train, X_test, y_train, y_test = train_test_split(features, labels,test_size=0.30, random_state=42)\n",
        "\n",
        "# Using logistic regression as the base model\n",
        "model_lgIII = LogisticRegression(max_iter=500)\n",
        "\n",
        "# fitting\n",
        "model_lgIII.fit(X_train, y_train)\n",
        "\n",
        "# prediction\n",
        "y_pred_lrIII = model_lgIII.predict(X_test)\n",
        "\n",
        "# Model evaluation\n",
        "accuracy = accuracy_score(y_test, y_pred_lrIII)\n",
        "precision = precision_score(y_test, y_pred_lrIII, average='weighted')  # 'weighted' for unbalanced classes\n",
        "recall = recall_score(y_test, y_pred_lrIII, average='weighted')\n",
        "f1 = f1_score(y_test, y_pred_lrIII, average='weighted')\n",
        "\n",
        "# results\n",
        "print(\"Accuracy:\", accuracy)\n",
        "print(\"Precision:\", precision)\n",
        "print(\"Recall:\", recall)\n",
        "print(\"F1-score:\", f1)\n",
        "\n",
        "# confusion matrix\n",
        "conf_matrix = confusion_matrix(y_test, y_pred_lrIII)\n",
        "print(\"confusion matrix:\")\n",
        "print(conf_matrix)\n",
        "\n",
        "# Classification report\n",
        "report = classification_report(y_test, y_pred_lrIII)\n",
        "print(\"report:\")\n",
        "print(report)\n",
        "\n",
        "# confusion matrix\n",
        "conf_matrix = confusion_matrix(y_test, y_pred_lrIII)\n",
        "\n",
        "# plotting\n",
        "plt.figure(figsize=(3, 3))\n",
        "sns.heatmap(conf_matrix, annot=True, fmt=\"d\", cmap=\"Blues\", cbar=False)\n",
        "plt.title('Confusion Matrix')\n",
        "plt.xlabel('Predicted Labels')\n",
        "plt.ylabel('True Labels')\n",
        "plt.show()"
      ]
    },
    {
      "cell_type": "code",
      "source": [
        "# Initialize the KNN classifier\n",
        "clf_knIII = KNeighborsClassifier(n_neighbors=5)\n",
        "\n",
        "# Train the classifier\n",
        "clf_knIII .fit(X_train, y_train)\n",
        "\n",
        "# Make predictions\n",
        "y_pred_knIII = clf_knIII.predict(X_test)\n",
        "\n",
        "# Print performance\n",
        "acc_kn = accuracy_score(y_test, y_pred_knIII)\n",
        "print(f\"accuracy_score: {acc_kn * 100:.2f}%\")\n",
        "print(classification_report(y_test, y_pred_knIII))\n",
        "\n",
        "# Model evaluation\n",
        "accuracy = accuracy_score(y_test, y_pred_knIII)\n",
        "precision = precision_score(y_test, y_pred_knIII, average='weighted')\n",
        "recall = recall_score(y_test, y_pred_knIII, average='weighted')\n",
        "f1 = f1_score(y_test, y_pred_knIII, average='weighted')\n",
        "\n",
        "# results\n",
        "print(\"Accuracy:\", accuracy)\n",
        "print(\"Precision:\", precision)\n",
        "print(\"Recall:\", recall)\n",
        "print(\"F1-score:\", f1)\n",
        "\n",
        "# confusion matrix\n",
        "conf_matrix = confusion_matrix(y_test, y_pred_knIII)\n",
        "print(\"confusion matrix:\")\n",
        "print(conf_matrix)\n",
        "\n",
        "# plotting\n",
        "plt.figure(figsize=(3, 3))\n",
        "sns.heatmap(conf_matrix, annot=True, fmt=\"d\", cmap=\"Blues\", cbar=False)\n",
        "plt.title('Confusion Matrix')\n",
        "plt.xlabel('Predicted Labels')\n",
        "plt.ylabel('True Labels')\n",
        "plt.show()\n",
        "\n",
        "\n",
        "# Classification report\n",
        "report = classification_report(y_test, y_pred_knIII)\n",
        "print(\"report:\")\n",
        "print(report)"
      ],
      "metadata": {
        "colab": {
          "base_uri": "https://localhost:8080/",
          "height": 826
        },
        "id": "wIaQ5FbatcMz",
        "outputId": "9c394e3c-2e1f-49e5-c6d9-973fd780af5c"
      },
      "execution_count": 96,
      "outputs": [
        {
          "output_type": "stream",
          "name": "stdout",
          "text": [
            "accuracy_score: 89.83%\n",
            "              precision    recall  f1-score   support\n",
            "\n",
            "      BENIGN       1.00      0.76      0.87     29216\n",
            "        DDoS       0.85      1.00      0.92     38507\n",
            "\n",
            "    accuracy                           0.90     67723\n",
            "   macro avg       0.92      0.88      0.89     67723\n",
            "weighted avg       0.91      0.90      0.90     67723\n",
            "\n",
            "Accuracy: 0.8983211021366448\n",
            "Precision: 0.9136609114616221\n",
            "Recall: 0.8983211021366448\n",
            "F1-score: 0.8957110636501499\n",
            "confusion matrix:\n",
            "[[22338  6878]\n",
            " [    8 38499]]\n"
          ]
        },
        {
          "output_type": "display_data",
          "data": {
            "text/plain": [
              "<Figure size 300x300 with 1 Axes>"
            ],
            "image/png": "[encoded data removed]"
          },
          "metadata": {}
        },
        {
          "output_type": "stream",
          "name": "stdout",
          "text": [
            "report:\n",
            "              precision    recall  f1-score   support\n",
            "\n",
            "      BENIGN       1.00      0.76      0.87     29216\n",
            "        DDoS       0.85      1.00      0.92     38507\n",
            "\n",
            "    accuracy                           0.90     67723\n",
            "   macro avg       0.92      0.88      0.89     67723\n",
            "weighted avg       0.91      0.90      0.90     67723\n",
            "\n"
          ]
        }
      ]
    },
    {
      "cell_type": "code",
      "execution_count": 97,
      "metadata": {
        "colab": {
          "base_uri": "https://localhost:8080/",
          "height": 644
        },
        "id": "6WQndjjdMtHs",
        "outputId": "81e44006-5518-46ca-d7ac-5680ef72345c"
      },
      "outputs": [
        {
          "output_type": "stream",
          "name": "stdout",
          "text": [
            "Accuracy: 0.8983211021366448\n",
            "Precision: 0.9136609114616221\n",
            "Recall: 0.8983211021366448\n",
            "F1-score: 0.8957110636501499\n",
            "confusion matrix:\n",
            "[[22338  6878]\n",
            " [    8 38499]]\n"
          ]
        },
        {
          "output_type": "display_data",
          "data": {
            "text/plain": [
              "<Figure size 300x300 with 1 Axes>"
            ],
            "image/png": "[encoded data removed]"
          },
          "metadata": {}
        },
        {
          "output_type": "stream",
          "name": "stdout",
          "text": [
            "report:\n",
            "              precision    recall  f1-score   support\n",
            "\n",
            "      BENIGN       1.00      0.76      0.87     29216\n",
            "        DDoS       0.85      1.00      0.92     38507\n",
            "\n",
            "    accuracy                           0.90     67723\n",
            "   macro avg       0.92      0.88      0.89     67723\n",
            "weighted avg       0.91      0.90      0.90     67723\n",
            "\n"
          ]
        }
      ],
      "source": [
        "# Initialize the Decision Tree classifier\n",
        "clf_dtIII = DecisionTreeClassifier(random_state=42)\n",
        "\n",
        "# Train the classifier\n",
        "clf_dtIII.fit(X_train, y_train)\n",
        "\n",
        "# Make predictions\n",
        "y_pred_dtIII = clf_dtIII.predict(X_test)\n",
        "\n",
        "# Model evaluation\n",
        "accuracy = accuracy_score(y_test, y_pred_dtIII)\n",
        "precision = precision_score(y_test, y_pred_dtIII, average='weighted')\n",
        "recall = recall_score(y_test, y_pred_dtIII, average='weighted')\n",
        "f1 = f1_score(y_test, y_pred_dtIII, average='weighted')\n",
        "\n",
        "# results\n",
        "print(\"Accuracy:\", accuracy)\n",
        "print(\"Precision:\", precision)\n",
        "print(\"Recall:\", recall)\n",
        "print(\"F1-score:\", f1)\n",
        "\n",
        "# confusion matrix\n",
        "conf_matrix = confusion_matrix(y_test, y_pred_dtIII)\n",
        "print(\"confusion matrix:\")\n",
        "print(conf_matrix)\n",
        "\n",
        "# plotting\n",
        "plt.figure(figsize=(3, 3))\n",
        "sns.heatmap(conf_matrix, annot=True, fmt=\"d\", cmap=\"Blues\", cbar=False)\n",
        "plt.title('Confusion Matrix')\n",
        "plt.xlabel('Predicted Labels')\n",
        "plt.ylabel('True Labels')\n",
        "plt.show()\n",
        "\n",
        "\n",
        "# Classification report\n",
        "report = classification_report(y_test, y_pred_dtIII)\n",
        "print(\"report:\")\n",
        "print(report)"
      ]
    },
    {
      "cell_type": "code",
      "source": [
        "# Initialize the Naive Bayes classifier\n",
        "clf_gIII = GaussianNB()\n",
        "\n",
        "# Train the classifier\n",
        "clf_gIII.fit(X_train, y_train)\n",
        "\n",
        "# Make predictions\n",
        "y_pred_gIII = clf_gIII.predict(X_test)\n",
        "# Model evaluation\n",
        "accuracy = accuracy_score(y_test, y_pred_gIII)\n",
        "precision = precision_score(y_test, y_pred_gIII, average='weighted')\n",
        "recall = recall_score(y_test, y_pred_gIII, average='weighted')\n",
        "f1 = f1_score(y_test, y_pred_gIII, average='weighted')\n",
        "\n",
        "# results\n",
        "print(\"Accuracy:\", accuracy)\n",
        "print(\"Precision:\", precision)\n",
        "print(\"Recall:\", recall)\n",
        "print(\"F1-score:\", f1)\n",
        "\n",
        "# confusion matrix\n",
        "conf_matrix = confusion_matrix(y_test, y_pred_gIII)\n",
        "print(\"confusion matrix:\")\n",
        "print(conf_matrix)\n",
        "\n",
        "# plotting\n",
        "plt.figure(figsize=(3, 3))\n",
        "sns.heatmap(conf_matrix, annot=True, fmt=\"d\", cmap=\"Blues\", cbar=False)\n",
        "plt.title('Confusion Matrix')\n",
        "plt.xlabel('Predicted Labels')\n",
        "plt.ylabel('True Labels')\n",
        "plt.show()\n",
        "\n",
        "# Classification report\n",
        "report = classification_report(y_test, y_pred_gIII)\n",
        "print(\"report:\")\n",
        "print(report)"
      ],
      "metadata": {
        "colab": {
          "base_uri": "https://localhost:8080/",
          "height": 644
        },
        "id": "MEamdkvYtHj8",
        "outputId": "9ef9489b-1446-4b08-c809-15d62b8a0ff7"
      },
      "execution_count": 98,
      "outputs": [
        {
          "output_type": "stream",
          "name": "stdout",
          "text": [
            "Accuracy: 0.8934335454719963\n",
            "Precision: 0.9102538171527023\n",
            "Recall: 0.8934335454719963\n",
            "F1-score: 0.8904904622102323\n",
            "confusion matrix:\n",
            "[[21999  7217]\n",
            " [    0 38507]]\n"
          ]
        },
        {
          "output_type": "display_data",
          "data": {
            "text/plain": [
              "<Figure size 300x300 with 1 Axes>"
            ],
            "image/png": "[encoded data removed]"
          },
          "metadata": {}
        },
        {
          "output_type": "stream",
          "name": "stdout",
          "text": [
            "report:\n",
            "              precision    recall  f1-score   support\n",
            "\n",
            "      BENIGN       1.00      0.75      0.86     29216\n",
            "        DDoS       0.84      1.00      0.91     38507\n",
            "\n",
            "    accuracy                           0.89     67723\n",
            "   macro avg       0.92      0.88      0.89     67723\n",
            "weighted avg       0.91      0.89      0.89     67723\n",
            "\n"
          ]
        }
      ]
    },
    {
      "cell_type": "markdown",
      "metadata": {
        "id": "nYQ5Obr2O3eO"
      },
      "source": [
        "# **Conclusion**\n",
        "\n",
        "The conclusion drawn from the models is that all variations incorporating features related to Fwd Packet Length Mean or average packet length consistently yield excellent performance metrics. This demonstrates that packet lengths and their volume are strong indicators of DDoS attacks. The significant role these features play suggests that future research and detection systems can reliably utilize packet size patterns as a key factor for identifying and mitigating DDoS threats. These findings confirm that packet behavior analysis is a critical component in cybersecurity, specifically in the detection of volumetric attacks like DDoS."
      ]
    }
  ],
  "metadata": {
    "colab": {
      "provenance": [],
      "authorship_tag": "ABX9TyPFc9SiUFDq6hbl9DBPcuht"
    },
    "kernelspec": {
      "display_name": "Python 3",
      "name": "python3"
    },
    "language_info": {
      "name": "python"
    }
  },
  "nbformat": 4,
  "nbformat_minor": 0
}